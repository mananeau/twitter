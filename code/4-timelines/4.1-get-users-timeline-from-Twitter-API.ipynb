{
 "cells": [
  {
   "cell_type": "code",
   "execution_count": 1,
   "metadata": {},
   "outputs": [],
   "source": [
    "from timeit import default_timer as timer\n",
    "import itertools\n",
    "import os\n",
    "import sys\n",
    "import uuid\n",
    "from glob import glob\n",
    "import json\n",
    "import tweepy\n",
    "import numpy as np\n",
    "import pandas as pd\n",
    "import multiprocessing as mp\n",
    "import psutil\n",
    "import socket"
   ]
  },
  {
   "cell_type": "markdown",
   "metadata": {},
   "source": [
    "# Params"
   ]
  },
  {
   "cell_type": "code",
   "execution_count": 2,
   "metadata": {},
   "outputs": [
    {
     "name": "stdout",
     "output_type": "stream",
     "text": [
      "Save Data After Downloading 1000 Timelines\n"
     ]
    }
   ],
   "source": [
    "cutoff = 1000\n",
    "print('Save Data After Downloading',cutoff,'Timelines')"
   ]
  },
  {
   "cell_type": "code",
   "execution_count": 3,
   "metadata": {},
   "outputs": [
    {
     "name": "stdout",
     "output_type": "stream",
     "text": [
      "SLURM_JOB_ID : 7059205\n",
      "SLURM_ARRAY_TASK_ID : 0 (Default)\n",
      "SLURM_ARRAY_TASK_COUNT : 1 (Default)\n",
      "SLURM_JOB_CPUS_PER_NODE : 1\n"
     ]
    }
   ],
   "source": [
    "def get_env_var(varname,default):\n",
    "    \n",
    "    if os.environ.get(varname) != None:\n",
    "        var = int(os.environ.get(varname))\n",
    "        print(varname,':', var)\n",
    "    else:\n",
    "        var = default\n",
    "        print(varname,':', var,'(Default)')\n",
    "    return var\n",
    "\n",
    "# Choose Number of Nodes To Distribute Credentials: e.g. jobarray=0-4, cpu_per_task=20, credentials = 90 (<100)\n",
    "SLURM_JOB_ID            = get_env_var('SLURM_JOB_ID',0)\n",
    "SLURM_ARRAY_TASK_ID     = get_env_var('SLURM_ARRAY_TASK_ID',0)\n",
    "SLURM_ARRAY_TASK_COUNT  = get_env_var('SLURM_ARRAY_TASK_COUNT',1)\n",
    "SLURM_JOB_CPUS_PER_NODE = get_env_var('SLURM_JOB_CPUS_PER_NODE',mp.cpu_count())"
   ]
  },
  {
   "cell_type": "code",
   "execution_count": 5,
   "metadata": {},
   "outputs": [
    {
     "name": "stdout",
     "output_type": "stream",
     "text": [
      "Country: BR\n"
     ]
    }
   ],
   "source": [
    "country_codes=[\n",
    "'US',\n",
    "# 'ID',\n",
    "'BR',\n",
    "# 'TR',\n",
    "'MX',\n",
    "'AR',\n",
    "# 'PH',\n",
    "'CO',\n",
    "# 'MY',\n",
    "# 'VE',\n",
    "# 'TH',\n",
    "]\n",
    "\n",
    "if len(country_codes)!=SLURM_ARRAY_TASK_COUNT:\n",
    "    sys.exit('Check jobarray size...exit.')\n",
    "\n",
    "country_code=country_codes[SLURM_ARRAY_TASK_ID]\n",
    "\n",
    "print('Country:', country_code)"
   ]
  },
  {
   "cell_type": "code",
   "execution_count": 6,
   "metadata": {},
   "outputs": [
    {
     "name": "stdout",
     "output_type": "stream",
     "text": [
      "/scratch/spf248/twitter/data/users\n",
      "/scratch/spf248/twitter/data/locations/profiles\n",
      "/scratch/spf248/twitter/data/keys/twitter\n",
      "/scratch/spf248/twitter/data/timelines/API/BR\n"
     ]
    }
   ],
   "source": [
    "if 'samuel' in socket.gethostname().lower():\n",
    "    path_to_data='../../data'\n",
    "else:\n",
    "    path_to_data='/scratch/spf248/twitter/data'\n",
    "\n",
    "path_to_users = os.path.join(path_to_data,'users')\n",
    "path_to_locations = os.path.join(path_to_data,'locations','profiles')\n",
    "path_to_keys = os.path.join(path_to_data,'keys','twitter')\n",
    "path_to_timelines = os.path.join(path_to_data,'timelines','API',country_code)\n",
    "os.makedirs(path_to_timelines, exist_ok=True)\n",
    "print(path_to_users)\n",
    "print(path_to_locations)\n",
    "print(path_to_keys)\n",
    "print(path_to_timelines)"
   ]
  },
  {
   "cell_type": "markdown",
   "metadata": {},
   "source": [
    "# Credentials"
   ]
  },
  {
   "cell_type": "code",
   "execution_count": 7,
   "metadata": {},
   "outputs": [
    {
     "name": "stdout",
     "output_type": "stream",
     "text": [
      "Check environment variables:\n",
      "# Credentials ( 49 ) > # CPU ( 1 )\n",
      "Only keeping 1 credentials\n",
      "/scratch/spf248/twitter/data/keys/twitter/WorldBankGroup6-zohar.json\n"
     ]
    }
   ],
   "source": [
    "def get_key_files(SLURM_ARRAY_TASK_ID,SLURM_ARRAY_TASK_COUNT,SLURM_JOB_CPUS_PER_NODE):\n",
    "\n",
    "    # Randomize set of key files using constant seed\n",
    "    np.random.seed(0)\n",
    "    all_key_files = np.random.permutation(glob(os.path.join(path_to_keys,'*.json')))\n",
    "    \n",
    "    # Split file list by node\n",
    "    key_files = np.array_split(all_key_files,SLURM_ARRAY_TASK_COUNT)[SLURM_ARRAY_TASK_ID]\n",
    "    \n",
    "    # Check that node has more CPU than key file \n",
    "    if len(key_files) <= SLURM_JOB_CPUS_PER_NODE:\n",
    "        print('# Credentials Allocated To Node:', len(key_files)) \n",
    "    else:\n",
    "        print('Check environment variables:')\n",
    "        print('# Credentials (',len(key_files),') > # CPU (', SLURM_JOB_CPUS_PER_NODE,')')\n",
    "        print('Only keeping', SLURM_JOB_CPUS_PER_NODE, 'credentials')\n",
    "        key_files = key_files[:SLURM_JOB_CPUS_PER_NODE]\n",
    "        \n",
    "    return key_files\n",
    "\n",
    "key_files = get_key_files(SLURM_ARRAY_TASK_ID,SLURM_ARRAY_TASK_COUNT,SLURM_JOB_CPUS_PER_NODE)\n",
    "print('\\n'.join(key_files))"
   ]
  },
  {
   "cell_type": "code",
   "execution_count": 8,
   "metadata": {},
   "outputs": [],
   "source": [
    "def get_auth(key_file):\n",
    "    \n",
    "    # Import Key\n",
    "    with open(key_file) as f:\n",
    "        key = json.load(f)\n",
    "\n",
    "    # OAuth process, using the keys and tokens\n",
    "    auth = tweepy.OAuthHandler(key['consumer_key'], key['consumer_secret'])\n",
    "    auth.set_access_token(key['access_token'], key['access_token_secret'])\n",
    "\n",
    "    # Creation of the actual interface, using authentication\n",
    "    api = tweepy.API(auth, wait_on_rate_limit=True, wait_on_rate_limit_notify=True)\n",
    "    \n",
    "    try:\n",
    "        api.verify_credentials()\n",
    "        print(key_file,\": Authentication checked\")\n",
    "    except:\n",
    "        print(key_file,\": error during authentication\")\n",
    "        sys.exit('Exit')\n",
    "    \n",
    "    return api\n",
    "\n",
    "# for key_file in np.random.permutation(glob(os.path.join(path_to_keys,'*.json'))):\n",
    "#     get_auth(key_file)\n",
    "# print('Credentials Checked!')"
   ]
  },
  {
   "cell_type": "markdown",
   "metadata": {},
   "source": [
    "# User List"
   ]
  },
  {
   "cell_type": "code",
   "execution_count": 9,
   "metadata": {},
   "outputs": [
    {
     "name": "stdout",
     "output_type": "stream",
     "text": [
      "Import Users By Account Locations\n",
      "# Locations: 39779\n",
      "# Users Total: 92088032\n",
      "Computing Time: 175 sec\n"
     ]
    }
   ],
   "source": [
    "print('Import Users By Account Locations')\n",
    "start = timer()\n",
    "\n",
    "l = []\n",
    "for filename in sorted(glob(os.path.join(path_to_users,'user-ids-by-account-location-verified/*.json'))):\n",
    "    try:\n",
    "        df = pd.read_json(filename,lines=True)\n",
    "        l.append(df)\n",
    "    except:\n",
    "        print('error importing', filename)\n",
    "users_by_account_location=pd.concat(l, axis=0, ignore_index=True)\n",
    "users_by_account_location=users_by_account_location.set_index('user_location')['user_id']\n",
    "users_by_account_location=users_by_account_location.apply(eval).apply(lambda x:[str(y) for y in x])\n",
    "print('# Locations:', len(users_by_account_location))\n",
    "print('# Users Total:', users_by_account_location.apply(len).sum())\n",
    "\n",
    "end = timer()\n",
    "print('Computing Time:', round(end - start), 'sec')"
   ]
  },
  {
   "cell_type": "code",
   "execution_count": 10,
   "metadata": {},
   "outputs": [
    {
     "name": "stdout",
     "output_type": "stream",
     "text": [
      "Import Locations\n",
      "# Locations: 39779\n"
     ]
    }
   ],
   "source": [
    "print('Import Locations')\n",
    "account_locations=pd.read_pickle(os.path.join(path_to_locations,'account-locations-identified.pkl')) \n",
    "print('# Locations:', len(account_locations))"
   ]
  },
  {
   "cell_type": "code",
   "execution_count": 11,
   "metadata": {},
   "outputs": [
    {
     "name": "stdout",
     "output_type": "stream",
     "text": [
      "Select Country Users...\n",
      "# Users in BR : 4863404\n",
      "Computing Time: 11 sec\n"
     ]
    }
   ],
   "source": [
    "def get_users(country_code):  \n",
    "\n",
    "    # Select Country Users\n",
    "    users = sorted(itertools.chain.from_iterable(\n",
    "    users_by_account_location.reindex(\n",
    "    account_locations.loc[\n",
    "    account_locations['country_short']==country_code,'LOCATION'])))\n",
    "    \n",
    "    # Randomize All Users\n",
    "    np.random.seed(0)\n",
    "    users=np.random.permutation(users)\n",
    "    \n",
    "    return users\n",
    "    \n",
    "start = timer()\n",
    "print('Select Country Users...')\n",
    "\n",
    "users = get_users(country_code)\n",
    "del users_by_account_location\n",
    "del account_locations\n",
    "\n",
    "print('# Users in',country_code,':', len(users))\n",
    "    \n",
    "end = timer()\n",
    "print('Computing Time:', round(end - start), 'sec')"
   ]
  },
  {
   "cell_type": "markdown",
   "metadata": {},
   "source": [
    "Nb of verified users in the US = 21,205,171"
   ]
  },
  {
   "cell_type": "code",
   "execution_count": 12,
   "metadata": {},
   "outputs": [
    {
     "name": "stdout",
     "output_type": "stream",
     "text": [
      "# Downloaded Timelines: 12000\n"
     ]
    }
   ],
   "source": [
    "# Users Whose Timeline Were Successfully Downloaded\n",
    "def get_success(path_to_timelines):\n",
    "    \n",
    "    if not os.path.exists(os.path.join(path_to_timelines, 'success')):\n",
    "        return set()\n",
    "    else:\n",
    "        success = set()\n",
    "        with open(os.path.join(path_to_timelines, 'success'), 'r', encoding='utf-8') as file:\n",
    "            for line in file:\n",
    "                success.add(line.strip('\\n').split('\\t')[0])\n",
    "        return set(success)\n",
    "\n",
    "success = get_success(path_to_timelines)\n",
    "print('# Downloaded Timelines:', len(success))"
   ]
  },
  {
   "cell_type": "code",
   "execution_count": 13,
   "metadata": {},
   "outputs": [
    {
     "name": "stdout",
     "output_type": "stream",
     "text": [
      "# Remaining Users For this Node: 4851404\n"
     ]
    }
   ],
   "source": [
    "users=list(set(users).difference(success))\n",
    "\n",
    "# Randomize Remaining Users\n",
    "np.random.seed(0)\n",
    "users=list(np.random.permutation(users))\n",
    "    \n",
    "print('# Remaining Users For this Node:', len(users))"
   ]
  },
  {
   "cell_type": "markdown",
   "metadata": {},
   "source": [
    "# Get Timelines"
   ]
  },
  {
   "cell_type": "code",
   "execution_count": 14,
   "metadata": {},
   "outputs": [],
   "source": [
    "def get_timeline(user_id,api):\n",
    "    \n",
    "    timeline = []\n",
    "    error = None\n",
    "    \n",
    "    # Collect All Statuses in Timeline\n",
    "    try:\n",
    "        cursor = tweepy.Cursor(\n",
    "        api.user_timeline, \n",
    "        user_id=user_id, \n",
    "        count=3200,\n",
    "        tweet_mode=\"extended\", \n",
    "        include_rts=True).items()\n",
    "        \n",
    "        for status in cursor:\n",
    "            timeline.append(status._json)\n",
    "     \n",
    "    except tweepy.error.TweepError as e:\n",
    "        error = str(e)\n",
    "        \n",
    "    return pd.DataFrame(timeline), error\n",
    "\n",
    "# timeline = get_user_timeline('12',get_auth(key_file))"
   ]
  },
  {
   "cell_type": "code",
   "execution_count": 15,
   "metadata": {},
   "outputs": [],
   "source": [
    "def get_timelines_by_block(index_key):\n",
    "\n",
    "    # Create Access For Block of Users\n",
    "    api = get_auth(key_files[index_key])\n",
    "    \n",
    "    # Select Block of Users\n",
    "    users_block = np.array_split(users,len(key_files))[index_key]\n",
    "    \n",
    "    # Initialize Output File ID\n",
    "    output_id = str(uuid.uuid4())\n",
    "    \n",
    "    # Initialize DataFrame\n",
    "    timelines = pd.DataFrame()\n",
    "    \n",
    "    # Initialize Downloaded User List\n",
    "    downloaded_ids = []\n",
    "    \n",
    "    for user_id in users_block:\n",
    "        \n",
    "        # Try Downloading Timeline\n",
    "        timeline, error = get_timeline(user_id,api)\n",
    "        \n",
    "        if error!=None:\n",
    "#             print(user_id,index_key,error)\n",
    "            continue\n",
    "            \n",
    "        # Append\n",
    "        timelines = pd.concat([timelines, timeline],sort=False)\n",
    "        downloaded_ids.append(user_id)\n",
    "            \n",
    "        # Save after <cutoff> timelines or when reaching last user\n",
    "        if len(downloaded_ids) == cutoff or user_id == users_block[-1]:\n",
    "            \n",
    "            print('Process', index_key, 'saving', len(downloaded_ids), 'timelines with output id', output_id)\n",
    "            \n",
    "            filename = \\\n",
    "            'timelines-'+\\\n",
    "            str(SLURM_JOB_ID)+'-'+\\\n",
    "            str(SLURM_ARRAY_TASK_ID)+'-'+\\\n",
    "            str(index_key)+'-'+\\\n",
    "            str(len(downloaded_ids))+'-'+\\\n",
    "            output_id+'.json.bz2'\n",
    "            \n",
    "            # Save as list of dict discarding index\n",
    "            timelines.to_json(\n",
    "            os.path.join(path_to_timelines,filename),\n",
    "            orient='records',\n",
    "            force_ascii=False,\n",
    "            date_format=None,\n",
    "            double_precision=15)\n",
    "            \n",
    "            # Save User Id and File In Which Its Timeline Was Saved\n",
    "            with open(os.path.join(path_to_timelines,'success'), 'a', encoding='utf-8') as file:\n",
    "                for downloaded_id in downloaded_ids:\n",
    "                    file.write(downloaded_id+'\\t'+filename+'\\n')\n",
    "            \n",
    "            # Reset Output File ID, Data, and Downloaded Users\n",
    "            del timelines, downloaded_ids\n",
    "            output_id = str(uuid.uuid4())\n",
    "            timelines = pd.DataFrame()\n",
    "            downloaded_ids = []\n",
    "            \n",
    "    return 0"
   ]
  },
  {
   "cell_type": "code",
   "execution_count": 16,
   "metadata": {},
   "outputs": [
    {
     "name": "stdout",
     "output_type": "stream",
     "text": [
      "Extract Timelines...\n",
      "\n",
      "/scratch/spf248/twitter/data/keys/twitter/WorldBankGroup6-zohar.json : Authentication checked\n",
      "Process 0 saving 10 timelines with output id cfce2357-11f3-4b71-8b69-705a409610d3\n"
     ]
    }
   ],
   "source": [
    "print('Extract Timelines...\\n')\n",
    "with mp.Pool() as pool:\n",
    "    pool.map(get_timelines_by_block, range(len(key_files)))"
   ]
  }
 ],
 "metadata": {
  "kernelspec": {
   "display_name": "Python 3",
   "language": "python",
   "name": "python3"
  },
  "language_info": {
   "codemirror_mode": {
    "name": "ipython",
    "version": 3
   },
   "file_extension": ".py",
   "mimetype": "text/x-python",
   "name": "python",
   "nbconvert_exporter": "python",
   "pygments_lexer": "ipython3",
   "version": "3.7.4"
  }
 },
 "nbformat": 4,
 "nbformat_minor": 2
}
