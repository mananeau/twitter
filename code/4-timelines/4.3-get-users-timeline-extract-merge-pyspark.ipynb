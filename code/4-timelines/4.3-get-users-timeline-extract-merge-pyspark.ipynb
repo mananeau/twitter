{
 "cells": [
  {
   "cell_type": "code",
   "execution_count": 1,
   "metadata": {},
   "outputs": [],
   "source": [
    "import os\n",
    "import sys\n",
    "import socket\n",
    "import re\n",
    "import numpy as np\n",
    "import string\n",
    "import warnings\n",
    "from timeit import default_timer as timer\n",
    "from datetime import datetime\n",
    "from glob import glob\n",
    "\n",
    "from pyspark.sql import SparkSession\n",
    "from pyspark.sql.functions import udf,desc,row_number,col,year,month,dayofmonth,dayofweek,to_timestamp,size,isnan,when,count,col,count,lit,sum\n",
    "import pyspark.sql.functions as F\n",
    "from pyspark.sql.types import MapType, StringType, IntegerType, StructType, StructField, FloatType, ArrayType\n",
    "from py4j.java_gateway import java_import\n",
    "from functools import reduce\n",
    "from pyspark.sql import DataFrame"
   ]
  },
  {
   "cell_type": "markdown",
   "metadata": {},
   "source": [
    "# Config"
   ]
  },
  {
   "cell_type": "code",
   "execution_count": 4,
   "metadata": {},
   "outputs": [
    {
     "name": "stdout",
     "output_type": "stream",
     "text": [
      "Country: united-states\n"
     ]
    }
   ],
   "source": [
    "country_code = \"US\"\n",
    "print('Country:', country_code)"
   ]
  },
  {
   "cell_type": "code",
   "execution_count": 5,
   "metadata": {},
   "outputs": [
    {
     "name": "stdout",
     "output_type": "stream",
     "text": [
      "Hostname: Samuels-MacBook-Pro.local\n"
     ]
    }
   ],
   "source": [
    "try:\n",
    "    spark\n",
    "except NameError:\n",
    "    if 'samuel' in socket.gethostname().lower():\n",
    "        print('Create Local SparkSession')\n",
    "        spark=SparkSession.builder.config(\"spark.driver.host\", \"localhost\").appName(\"extract-timelines\").getOrCreate()\n",
    "    else:\n",
    "        print('Create Cluster SparkSession')\n",
    "        spark=SparkSession.builder.appName(\"extract-timelines\").getOrCreate()\n",
    "        \n",
    "# IgnoreCorruptFiles\n",
    "spark.conf.set(\"spark.sql.files.ignoreCorruptFiles\", \"true\")\n",
    "    \n",
    "print('Hostname:', socket.gethostname())\n",
    "if  'samuel' in socket.gethostname().lower():\n",
    "    path_to_data='../../data/timelines/'\n",
    "else:\n",
    "    path_to_data='/user/spf248/twitter/data/timelines/'"
   ]
  },
  {
   "cell_type": "code",
   "execution_count": null,
   "metadata": {},
   "outputs": [],
   "source": [
    "print('IMPORT')\n",
    "df=spark.read.parquet(os.path.join(path_to_data,'chunks',country_code,'*/*.parquet'))\n",
    "\n",
    "print('REPARTITION')\n",
    "df=df.repartition(1000)\n",
    "        \n",
    "print(\"DROP DUPLICATE IDS\")\n",
    "df=df.drop_duplicates(subset=['tweet_id'])"
   ]
  },
  {
   "cell_type": "code",
   "execution_count": null,
   "metadata": {},
   "outputs": [],
   "source": [
    "print('# TWEETS:', df.count())"
   ]
  },
  {
   "cell_type": "code",
   "execution_count": null,
   "metadata": {},
   "outputs": [],
   "source": [
    "print('# USERS:', df.select(\"user_id\").distinct().count())"
   ]
  },
  {
   "cell_type": "code",
   "execution_count": null,
   "metadata": {},
   "outputs": [],
   "source": [
    "def count_not_null(c, nan_as_null=False):\n",
    "    \"\"\"Use conversion between boolean and integer\n",
    "    - False -> 0\n",
    "    - True ->  1\n",
    "    \"\"\"\n",
    "    pred = col(c).isNotNull() & (~isnan(c) if nan_as_null else lit(True))\n",
    "    return sum(pred.cast(\"integer\")).alias(c)\n",
    "\n",
    "print('COUNT VALUES THAT ARE NON-NULL AND NON-NAN')\n",
    "print(df.agg(*[count_not_null(c, True) for c in [\n",
    "'tweet_id',\n",
    "'text',\n",
    "'tweet_lang',\n",
    "'user_id',\n",
    "'user_location',\n",
    "'place_id',\n",
    "'tweet_longitude',\n",
    "'tweet_latitude',\n",
    "]]).show())"
   ]
  },
  {
   "cell_type": "markdown",
   "metadata": {},
   "source": [
    "# Split By Month and Year"
   ]
  },
  {
   "cell_type": "code",
   "execution_count": 1,
   "metadata": {},
   "outputs": [],
   "source": [
    "def month_year_iter( start_month, start_year, end_month, end_year ):\n",
    "    ym_start= 12*start_year + start_month - 1\n",
    "    ym_end= 12*end_year + end_month - 1\n",
    "    for ym in range( ym_start, ym_end ):\n",
    "        y, m = divmod( ym, 12 )\n",
    "        yield y, m+1"
   ]
  },
  {
   "cell_type": "code",
   "execution_count": null,
   "metadata": {},
   "outputs": [],
   "source": [
    "print(\"EXTRACT YEAR AND MONTH\")\n",
    "df=df.withColumn('year',year('created_at').cast(\"string\"))\n",
    "df=df.withColumn('month',month('created_at').cast(\"string\"))"
   ]
  },
  {
   "cell_type": "code",
   "execution_count": null,
   "metadata": {},
   "outputs": [],
   "source": [
    "print('SAVE')\n",
    "start = timer()\n",
    "\n",
    "dates=list(month_year_iter(1,2012,1,2020))\n",
    "\n",
    "for i in range(len(dates)-1):\n",
    "    \n",
    "    df.filter((df[\"year\"]==dates[i][0])&(df[\"month\"]==dates[i][1])).drop('year','month').write.mode(\n",
    "    \"overwrite\").parquet(os.path.join(path_to_data,'extract',country_code,str(dates[i][0])+'-'+str(dates[i][1])))\n",
    "\n",
    "end = timer()\n",
    "print('DONE IN', round(end - start), 'SEC')"
   ]
  },
  {
   "cell_type": "code",
   "execution_count": 1,
   "metadata": {},
   "outputs": [
    {
     "name": "stdout",
     "output_type": "stream",
     "text": [
      "Computing Time: 0.18\n"
     ]
    }
   ],
   "source": [
    "print('Computing Time:',round((1579892135118-1579891482128)/(1000*3600),2))"
   ]
  },
  {
   "cell_type": "markdown",
   "metadata": {},
   "source": [
    "N TWEETS: 1,620,393,106\n",
    "    \n",
    "N USERS: 1,541,121\n",
    "\n",
    "COUNT VALUES THAT ARE NON-NULL AND NON-NAN\n",
    "+----------+----------+----------+----------+-------------+--------+---------------+--------------+\n",
    "|  tweet_id|      text|tweet_lang|   user_id|user_location|place_id|tweet_longitude|tweet_latitude|\n",
    "+----------+----------+----------+----------+-------------+--------+---------------+--------------+\n",
    "|1620393106|1620393105|1620393106|1620393106|   1620393106|59191039|       22189200|      22189200|\n",
    "+----------+----------+----------+----------+-------------+--------+---------------+--------------+"
   ]
  }
 ],
 "metadata": {
  "kernelspec": {
   "display_name": "Python 3",
   "language": "python",
   "name": "python3"
  },
  "language_info": {
   "codemirror_mode": {
    "name": "ipython",
    "version": 3
   },
   "file_extension": ".py",
   "mimetype": "text/x-python",
   "name": "python",
   "nbconvert_exporter": "python",
   "pygments_lexer": "ipython3",
   "version": "3.7.6"
  }
 },
 "nbformat": 4,
 "nbformat_minor": 2
}
