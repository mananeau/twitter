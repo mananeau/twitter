{
 "cells": [
  {
   "cell_type": "code",
   "execution_count": 118,
   "metadata": {},
   "outputs": [],
   "source": [
    "import pandas as pd\n",
    "import numpy as np\n",
    "from time import time\n",
    "import re\n",
    "import string\n",
    "import socket\n",
    "from glob import glob"
   ]
  },
  {
   "cell_type": "code",
   "execution_count": 119,
   "metadata": {},
   "outputs": [
    {
     "name": "stdout",
     "output_type": "stream",
     "text": [
      "Country: US\n",
      "Path to data: ../../data/classification/US\n"
     ]
    }
   ],
   "source": [
    "country_code = \"US\"\n",
    "print('Country:', country_code)\n",
    "\n",
    "# Local\n",
    "if 'samuel' in socket.gethostname().lower():\n",
    "    path_to_data = os.path.join('../../data/classification',country_code)\n",
    "# Cluster\n",
    "else:\n",
    "    path_to_data = os.path.join('/scratch/spf248/twitter/data/classification',country_code)\n",
    "print('Path to data:',path_to_data)"
   ]
  },
  {
   "cell_type": "markdown",
   "metadata": {},
   "source": [
    "# Training Set"
   ]
  },
  {
   "cell_type": "code",
   "execution_count": 128,
   "metadata": {},
   "outputs": [
    {
     "name": "stdout",
     "output_type": "stream",
     "text": [
      "# labels: 67425\n"
     ]
    }
   ],
   "source": [
    "# Only keep one label per worker and tweet\n",
    "labels=pd.concat(\n",
    "[pd.read_csv(file) for file in glob(os.path.join(path_to_data,'labeled','*','labels.csv'))]).sort_values(\n",
    "by=['tweet_id','class_id','QIDWorker']).drop_duplicates(\n",
    "['tweet_id','class_id','QIDWorker']).set_index(\n",
    "['tweet_id','class_id','QIDWorker'])\n",
    "\n",
    "print('# labels:', labels.shape[0])"
   ]
  },
  {
   "cell_type": "code",
   "execution_count": 138,
   "metadata": {},
   "outputs": [],
   "source": [
    "counts=labels.groupby(['tweet_id','class_id'])['score'].value_counts()"
   ]
  },
  {
   "cell_type": "code",
   "execution_count": 129,
   "metadata": {},
   "outputs": [
    {
     "data": {
      "text/html": [
       "<div>\n",
       "<style scoped>\n",
       "    .dataframe tbody tr th:only-of-type {\n",
       "        vertical-align: middle;\n",
       "    }\n",
       "\n",
       "    .dataframe tbody tr th {\n",
       "        vertical-align: top;\n",
       "    }\n",
       "\n",
       "    .dataframe thead th {\n",
       "        text-align: right;\n",
       "    }\n",
       "</style>\n",
       "<table border=\"1\" class=\"dataframe\">\n",
       "  <thead>\n",
       "    <tr style=\"text-align: right;\">\n",
       "      <th></th>\n",
       "      <th></th>\n",
       "      <th></th>\n",
       "      <th>score</th>\n",
       "    </tr>\n",
       "    <tr>\n",
       "      <th>tweet_id</th>\n",
       "      <th>class_id</th>\n",
       "      <th>QIDWorker</th>\n",
       "      <th></th>\n",
       "    </tr>\n",
       "  </thead>\n",
       "  <tbody>\n",
       "    <tr>\n",
       "      <th rowspan=\"5\" valign=\"top\">278519817328279552</th>\n",
       "      <th rowspan=\"5\" valign=\"top\">1</th>\n",
       "      <th>A170EDGL8ZWMSL</th>\n",
       "      <td>yes</td>\n",
       "    </tr>\n",
       "    <tr>\n",
       "      <th>A1CFPKUOCGJIM6</th>\n",
       "      <td>yes</td>\n",
       "    </tr>\n",
       "    <tr>\n",
       "      <th>A1NHTBY5YB9JH7</th>\n",
       "      <td>yes</td>\n",
       "    </tr>\n",
       "    <tr>\n",
       "      <th>A3B7TNVOISSZ2O</th>\n",
       "      <td>yes</td>\n",
       "    </tr>\n",
       "    <tr>\n",
       "      <th>AVCXJ9M71WDCB</th>\n",
       "      <td>yes</td>\n",
       "    </tr>\n",
       "    <tr>\n",
       "      <th>...</th>\n",
       "      <th>...</th>\n",
       "      <th>...</th>\n",
       "      <td>...</td>\n",
       "    </tr>\n",
       "    <tr>\n",
       "      <th rowspan=\"5\" valign=\"top\">1079020674377629701</th>\n",
       "      <th rowspan=\"5\" valign=\"top\">5</th>\n",
       "      <th>A1JV64BL3WCK0G</th>\n",
       "      <td>yes</td>\n",
       "    </tr>\n",
       "    <tr>\n",
       "      <th>A1XLGIFFGB01EU</th>\n",
       "      <td>yes</td>\n",
       "    </tr>\n",
       "    <tr>\n",
       "      <th>A3RR85PK3AV9TU</th>\n",
       "      <td>yes</td>\n",
       "    </tr>\n",
       "    <tr>\n",
       "      <th>A3U21PUMQ6NGT2</th>\n",
       "      <td>yes</td>\n",
       "    </tr>\n",
       "    <tr>\n",
       "      <th>AI885RNRGVIFM</th>\n",
       "      <td>no</td>\n",
       "    </tr>\n",
       "  </tbody>\n",
       "</table>\n",
       "<p>67425 rows × 1 columns</p>\n",
       "</div>"
      ],
      "text/plain": [
       "                                            score\n",
       "tweet_id            class_id QIDWorker           \n",
       "278519817328279552  1        A170EDGL8ZWMSL   yes\n",
       "                             A1CFPKUOCGJIM6   yes\n",
       "                             A1NHTBY5YB9JH7   yes\n",
       "                             A3B7TNVOISSZ2O   yes\n",
       "                             AVCXJ9M71WDCB    yes\n",
       "...                                           ...\n",
       "1079020674377629701 5        A1JV64BL3WCK0G   yes\n",
       "                             A1XLGIFFGB01EU   yes\n",
       "                             A3RR85PK3AV9TU   yes\n",
       "                             A3U21PUMQ6NGT2   yes\n",
       "                             AI885RNRGVIFM     no\n",
       "\n",
       "[67425 rows x 1 columns]"
      ]
     },
     "execution_count": 129,
     "metadata": {},
     "output_type": "execute_result"
    }
   ],
   "source": [
    "labels"
   ]
  },
  {
   "cell_type": "code",
   "execution_count": 156,
   "metadata": {},
   "outputs": [
    {
     "name": "stdout",
     "output_type": "stream",
     "text": [
      "# labeled tweets: 2483\n"
     ]
    }
   ],
   "source": [
    "def is_labeled(x):\n",
    "    # If First sequence was allocated more than once\n",
    "    if x[0]>1:\n",
    "        # If no other sequence\n",
    "        if len(x)==1:\n",
    "            return True\n",
    "        else:\n",
    "            # If second sequence less popular\n",
    "            if x[1]<x[0]:\n",
    "                return True\n",
    "    return False\n",
    "\n",
    "# Counts labels for each observation\n",
    "counts=labels.groupby(['tweet_id','class_id'])['score'].value_counts().rename('count')\n",
    "\n",
    "# Keep tweets that were labeled more than once with most popular labels strictly dominating\n",
    "ids_labeled=counts.groupby(['tweet_id','class_id']).apply(list).apply(is_labeled).groupby('tweet_id').sum().where(lambda x:x==5).dropna().index\n",
    "print('# labeled tweets:', len(ids_labeled))"
   ]
  },
  {
   "cell_type": "code",
   "execution_count": 160,
   "metadata": {},
   "outputs": [],
   "source": [
    "# Keep most popular label sequence\n",
    "labels=counts.reindex(ids_labeled,level='tweet_id').reset_index(\n",
    "level='score').groupby(['tweet_id','class_id'])['score'].first().unstack()"
   ]
  },
  {
   "cell_type": "code",
   "execution_count": 161,
   "metadata": {},
   "outputs": [],
   "source": [
    "labels.to_csv(os.path.join(path_to_data,'labeled','labels.csv'))"
   ]
  },
  {
   "cell_type": "code",
   "execution_count": 162,
   "metadata": {},
   "outputs": [
    {
     "data": {
      "text/plain": [
       "{'1': 'Does this tweet indicate that the user is currently unemployed?',\n",
       " '2': 'Does this tweet indicate that the user became unemployed within the last month?',\n",
       " '3': 'Does this tweet indicate that the user is currently searching for a job?',\n",
       " '4': 'Does this tweet indicate that the user was hired within the last month?',\n",
       " '5': 'Does this tweet contain a job offer?'}"
      ]
     },
     "execution_count": 162,
     "metadata": {},
     "output_type": "execute_result"
    }
   ],
   "source": [
    "class2name=dict(zip([str(x) for x in range(1,6)],[\n",
    "'Does this tweet indicate that the user is currently unemployed?',\n",
    "'Does this tweet indicate that the user became unemployed within the last month?',\n",
    "'Does this tweet indicate that the user is currently searching for a job?',\n",
    "'Does this tweet indicate that the user was hired within the last month?',\n",
    "'Does this tweet contain a job offer?',\n",
    "]))\n",
    "\n",
    "class2name"
   ]
  },
  {
   "cell_type": "code",
   "execution_count": 163,
   "metadata": {},
   "outputs": [
    {
     "data": {
      "text/html": [
       "<div>\n",
       "<style scoped>\n",
       "    .dataframe tbody tr th:only-of-type {\n",
       "        vertical-align: middle;\n",
       "    }\n",
       "\n",
       "    .dataframe tbody tr th {\n",
       "        vertical-align: top;\n",
       "    }\n",
       "\n",
       "    .dataframe thead th {\n",
       "        text-align: right;\n",
       "    }\n",
       "</style>\n",
       "<table border=\"1\" class=\"dataframe\">\n",
       "  <thead>\n",
       "    <tr style=\"text-align: right;\">\n",
       "      <th>class_id</th>\n",
       "      <th>1</th>\n",
       "      <th>2</th>\n",
       "      <th>3</th>\n",
       "      <th>4</th>\n",
       "      <th>5</th>\n",
       "    </tr>\n",
       "    <tr>\n",
       "      <th>tweet_id</th>\n",
       "      <th></th>\n",
       "      <th></th>\n",
       "      <th></th>\n",
       "      <th></th>\n",
       "      <th></th>\n",
       "    </tr>\n",
       "  </thead>\n",
       "  <tbody>\n",
       "    <tr>\n",
       "      <th>278519817328279552</th>\n",
       "      <td>yes</td>\n",
       "      <td>no</td>\n",
       "      <td>yes</td>\n",
       "      <td>no</td>\n",
       "      <td>no</td>\n",
       "    </tr>\n",
       "    <tr>\n",
       "      <th>278534362910322688</th>\n",
       "      <td>no</td>\n",
       "      <td>no</td>\n",
       "      <td>yes</td>\n",
       "      <td>no</td>\n",
       "      <td>no</td>\n",
       "    </tr>\n",
       "    <tr>\n",
       "      <th>278988941837873152</th>\n",
       "      <td>yes</td>\n",
       "      <td>no</td>\n",
       "      <td>no</td>\n",
       "      <td>no</td>\n",
       "      <td>no</td>\n",
       "    </tr>\n",
       "    <tr>\n",
       "      <th>279004515271864320</th>\n",
       "      <td>no</td>\n",
       "      <td>no</td>\n",
       "      <td>no</td>\n",
       "      <td>no</td>\n",
       "      <td>no</td>\n",
       "    </tr>\n",
       "    <tr>\n",
       "      <th>279777877677989889</th>\n",
       "      <td>no</td>\n",
       "      <td>no</td>\n",
       "      <td>no</td>\n",
       "      <td>no</td>\n",
       "      <td>no</td>\n",
       "    </tr>\n",
       "    <tr>\n",
       "      <th>...</th>\n",
       "      <td>...</td>\n",
       "      <td>...</td>\n",
       "      <td>...</td>\n",
       "      <td>...</td>\n",
       "      <td>...</td>\n",
       "    </tr>\n",
       "    <tr>\n",
       "      <th>1072914627594514434</th>\n",
       "      <td>yes</td>\n",
       "      <td>no</td>\n",
       "      <td>no</td>\n",
       "      <td>no</td>\n",
       "      <td>no</td>\n",
       "    </tr>\n",
       "    <tr>\n",
       "      <th>1073295386511589377</th>\n",
       "      <td>yes</td>\n",
       "      <td>no</td>\n",
       "      <td>no</td>\n",
       "      <td>no</td>\n",
       "      <td>no</td>\n",
       "    </tr>\n",
       "    <tr>\n",
       "      <th>1077327152817684480</th>\n",
       "      <td>no</td>\n",
       "      <td>no</td>\n",
       "      <td>no</td>\n",
       "      <td>no</td>\n",
       "      <td>yes</td>\n",
       "    </tr>\n",
       "    <tr>\n",
       "      <th>1077682947258384384</th>\n",
       "      <td>no</td>\n",
       "      <td>no</td>\n",
       "      <td>no</td>\n",
       "      <td>no</td>\n",
       "      <td>yes</td>\n",
       "    </tr>\n",
       "    <tr>\n",
       "      <th>1079020674377629701</th>\n",
       "      <td>no</td>\n",
       "      <td>no</td>\n",
       "      <td>no</td>\n",
       "      <td>no</td>\n",
       "      <td>yes</td>\n",
       "    </tr>\n",
       "  </tbody>\n",
       "</table>\n",
       "<p>2483 rows × 5 columns</p>\n",
       "</div>"
      ],
      "text/plain": [
       "class_id               1   2    3   4    5\n",
       "tweet_id                                  \n",
       "278519817328279552   yes  no  yes  no   no\n",
       "278534362910322688    no  no  yes  no   no\n",
       "278988941837873152   yes  no   no  no   no\n",
       "279004515271864320    no  no   no  no   no\n",
       "279777877677989889    no  no   no  no   no\n",
       "...                  ...  ..  ...  ..  ...\n",
       "1072914627594514434  yes  no   no  no   no\n",
       "1073295386511589377  yes  no   no  no   no\n",
       "1077327152817684480   no  no   no  no  yes\n",
       "1077682947258384384   no  no   no  no  yes\n",
       "1079020674377629701   no  no   no  no  yes\n",
       "\n",
       "[2483 rows x 5 columns]"
      ]
     },
     "execution_count": 163,
     "metadata": {},
     "output_type": "execute_result"
    }
   ],
   "source": [
    "labels"
   ]
  },
  {
   "cell_type": "code",
   "execution_count": null,
   "metadata": {},
   "outputs": [],
   "source": []
  }
 ],
 "metadata": {
  "kernelspec": {
   "display_name": "Python 3",
   "language": "python",
   "name": "python3"
  },
  "language_info": {
   "codemirror_mode": {
    "name": "ipython",
    "version": 3
   },
   "file_extension": ".py",
   "mimetype": "text/x-python",
   "name": "python",
   "nbconvert_exporter": "python",
   "pygments_lexer": "ipython3",
   "version": "3.7.6"
  }
 },
 "nbformat": 4,
 "nbformat_minor": 2
}
