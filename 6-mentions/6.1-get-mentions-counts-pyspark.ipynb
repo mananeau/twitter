{
 "cells": [
  {
   "cell_type": "code",
   "execution_count": 1,
   "metadata": {},
   "outputs": [],
   "source": [
    "import os\n",
    "import sys\n",
    "import socket\n",
    "import re\n",
    "import numpy as np\n",
    "import string\n",
    "import warnings\n",
    "from timeit import default_timer as timer\n",
    "from datetime import datetime\n",
    "from glob import glob\n",
    "\n",
    "from pyspark.sql import SparkSession\n",
    "from pyspark.sql.functions import udf,desc,row_number,col,year,month,dayofmonth,dayofweek,to_timestamp,size,isnan,lit,lower\n",
    "import pyspark.sql.functions as F\n",
    "from pyspark.sql.types import MapType, StringType, IntegerType, StructType, StructField, FloatType, ArrayType"
   ]
  },
  {
   "cell_type": "markdown",
   "metadata": {},
   "source": [
    "# Config"
   ]
  },
  {
   "cell_type": "code",
   "execution_count": 2,
   "metadata": {},
   "outputs": [
    {
     "name": "stdout",
     "output_type": "stream",
     "text": [
      "Country: US\n",
      "Language: en\n"
     ]
    }
   ],
   "source": [
    "country_code = \"US\"\n",
    "language_code = \"en\"\n",
    "print('Country:', country_code)\n",
    "print('Language:', language_code)\n",
    "\n",
    "wordlists=['loss', 'unemployed', 'search', 'hire', 'offer']"
   ]
  },
  {
   "cell_type": "code",
   "execution_count": 3,
   "metadata": {},
   "outputs": [
    {
     "name": "stdout",
     "output_type": "stream",
     "text": [
      "Hostname: Samuels-MacBook-Pro.local\n",
      "../../data/timelines/extract/US\n",
      "../../data/mentions\n",
      "../../data/keywords/labor/US\n"
     ]
    }
   ],
   "source": [
    "try:\n",
    "    spark\n",
    "except NameError:\n",
    "    if 'samuel' in socket.gethostname().lower():\n",
    "        print('Create Local SparkSession')\n",
    "        spark = SparkSession.builder.config(\n",
    "        \"spark.driver.host\", \"localhost\").appName(\n",
    "        \"get-tweets-mentions\").getOrCreate()\n",
    "    else:\n",
    "        print('Create Cluster SparkSession')\n",
    "        spark = SparkSession.builder.appName(\n",
    "        \"get-tweets-mentions\").getOrCreate()\n",
    "    \n",
    "# Local\n",
    "print('Hostname:', socket.gethostname())\n",
    "if  'samuel' in socket.gethostname().lower():\n",
    "    path_to_data='../../data'\n",
    "# Cluster\n",
    "else:\n",
    "    path_to_data='/user/spf248/twitter/data'\n",
    "    \n",
    "path_to_timelines=os.path.join(path_to_data,'timelines','extract',country_code)\n",
    "path_to_mentions=os.path.join(path_to_data,'mentions')\n",
    "path_to_keywords=os.path.join(path_to_data,'keywords','labor',country_code)\n",
    "print(path_to_timelines)\n",
    "print(path_to_mentions)\n",
    "print(path_to_keywords)"
   ]
  },
  {
   "cell_type": "markdown",
   "metadata": {},
   "source": [
    "# Data Processing"
   ]
  },
  {
   "cell_type": "code",
   "execution_count": 4,
   "metadata": {},
   "outputs": [
    {
     "name": "stdout",
     "output_type": "stream",
     "text": [
      "Import Datasets\n",
      "REPARTITION\n"
     ]
    },
    {
     "data": {
      "text/plain": [
       "DataFrame[tweet_id: string, created_at: timestamp, text: string, tweet_lang: string, user_id: string, user_location: string, place_id: string, tweet_longitude: double, tweet_latitude: double]"
      ]
     },
     "execution_count": 4,
     "metadata": {},
     "output_type": "execute_result"
    }
   ],
   "source": [
    "print('Import Datasets')\n",
    "df=spark.read.parquet(path_to_timelines)\n",
    "\n",
    "print(\"REPARTITION\")\n",
    "df=df.repartition(1000)\n",
    "\n",
    "df.cache()"
   ]
  },
  {
   "cell_type": "code",
   "execution_count": 121,
   "metadata": {},
   "outputs": [
    {
     "name": "stdout",
     "output_type": "stream",
     "text": [
      "SELECT LANGUAGE\n",
      "EXTRACT YEAR AND MONTH\n",
      "loss\n",
      "# targets: 36\n",
      "unemployed\n",
      "# targets: 16\n",
      "search\n",
      "# targets: 50\n",
      "hire\n",
      "# targets: 29\n",
      "offer\n",
      "# targets: 9\n",
      "COUNT MENTIONS BY YEAR, MONTH, LOCATION, AND USER\n",
      "COUNT USERS BY YEAR, MONTH, LOCATION\n",
      "RENAME\n"
     ]
    }
   ],
   "source": [
    "print(\"SELECT LANGUAGE\")\n",
    "df=df.where(df.tweet_lang==language_code)\n",
    "\n",
    "print(\"EXTRACT YEAR AND MONTH\")\n",
    "df=df.withColumn('year',year('created_at').cast(\"string\"))\n",
    "df=df.withColumn('month',month('created_at').cast(\"string\"))\n",
    "\n",
    "for wordlist in wordlists:\n",
    "    \n",
    "    print(wordlist)\n",
    "    targets=list(spark.read.csv(os.path.join(path_to_keywords,country_code+'-'+wordlist+'.txt')).toPandas()['_c0'])\n",
    "    print('# targets:',len(targets))\n",
    "#     print('\\n'.join(targets))\n",
    "    \n",
    "    # Create an indicator equal to one if a tweet contains any of the target sentence and zero otherwise\n",
    "    df=df.withColumn(wordlist,(sum([df.text.contains(target).cast(\"int\") for target in targets])>0).cast(\"int\"))\n",
    "    \n",
    "df=df.drop(*['tweet_id','tweet_lang','created_at','text','place_id','tweet_longitude','tweet_latitude'])\n",
    "\n",
    "print(\"COUNT MENTIONS BY YEAR, MONTH, LOCATION, AND USER\")\n",
    "df=df.groupBy('year','month','user_location','user_id').sum()\n",
    "\n",
    "for wordlist in wordlists:\n",
    "    \n",
    "    # Binarize mention multiplicity at the user level\n",
    "    df=df.withColumn(wordlist,(df['sum('+wordlist+')']>0).cast(\"int\"))\n",
    "    df=df.drop('sum('+wordlist+')')\n",
    "    \n",
    "print(\"COUNT USERS BY YEAR, MONTH, LOCATION\")\n",
    "col2func=dict((wordlist,'sum') for wordlist in wordlists)\n",
    "col2func.update({'user_id':'count'})\n",
    "df=df.groupBy('year','month','user_location').agg(col2func)\n",
    "\n",
    "print(\"RENAME\")\n",
    "df=df.select([col(name).alias(name.replace('count(','').replace('sum(','').replace(')','')) for name in df.columns])\n",
    "df=df.withColumnRenamed('user_id','n_users')\n",
    "for wordlist in wordlists:\n",
    "    df=df.withColumnRenamed(wordlist,'n_'+wordlist)"
   ]
  },
  {
   "cell_type": "code",
   "execution_count": 123,
   "metadata": {},
   "outputs": [
    {
     "name": "stdout",
     "output_type": "stream",
     "text": [
      "SAVE\n",
      "DONE IN 163 SEC\n"
     ]
    }
   ],
   "source": [
    "print('SAVE')\n",
    "start = timer()\n",
    "\n",
    "df.write.mode(\"overwrite\").parquet(os.path.join(path_to_mentions,country_code))\n",
    "\n",
    "end = timer()\n",
    "print('DONE IN', round(end - start), 'SEC')"
   ]
  },
  {
   "cell_type": "code",
   "execution_count": 1,
   "metadata": {},
   "outputs": [
    {
     "name": "stdout",
     "output_type": "stream",
     "text": [
      "Computing Time (in hour): 0.3\n"
     ]
    }
   ],
   "source": [
    "print('Computing Time (in hour):',round((1580214760905-1580213691649)/(1000*3600),2))"
   ]
  }
 ],
 "metadata": {
  "kernelspec": {
   "display_name": "Python 3",
   "language": "python",
   "name": "python3"
  },
  "language_info": {
   "codemirror_mode": {
    "name": "ipython",
    "version": 3
   },
   "file_extension": ".py",
   "mimetype": "text/x-python",
   "name": "python",
   "nbconvert_exporter": "python",
   "pygments_lexer": "ipython3",
   "version": "3.7.6"
  }
 },
 "nbformat": 4,
 "nbformat_minor": 2
}
