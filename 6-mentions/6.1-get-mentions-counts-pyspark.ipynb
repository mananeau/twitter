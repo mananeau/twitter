{
 "cells": [
  {
   "cell_type": "code",
   "execution_count": 1,
   "metadata": {},
   "outputs": [],
   "source": [
    "import os\n",
    "import sys\n",
    "import socket\n",
    "import re\n",
    "import numpy as np\n",
    "import string\n",
    "import warnings\n",
    "from timeit import default_timer as timer\n",
    "from datetime import datetime\n",
    "from glob import glob\n",
    "import pandas as pd\n",
    "\n",
    "from pyspark.sql import SparkSession\n",
    "from pyspark.sql.functions import udf,desc,row_number,col,year,month,dayofmonth,dayofweek,to_timestamp,size,isnan,lit,lower\n",
    "import pyspark.sql.functions as F\n",
    "from pyspark.sql.types import MapType, StringType, IntegerType, StructType, StructField, FloatType, ArrayType"
   ]
  },
  {
   "cell_type": "markdown",
   "metadata": {},
   "source": [
    "# Config"
   ]
  },
  {
   "cell_type": "code",
   "execution_count": 2,
   "metadata": {},
   "outputs": [
    {
     "name": "stdout",
     "output_type": "stream",
     "text": [
      "Country: US\n",
      "Language: en\n"
     ]
    }
   ],
   "source": [
    "country_code = \"US\"\n",
    "language_code = \"en\"\n",
    "print('Country:', country_code)\n",
    "print('Language:', language_code)\n",
    "\n",
    "wordlists=['loss', 'unemployed', 'search', 'hire', 'offer']"
   ]
  },
  {
   "cell_type": "code",
   "execution_count": 3,
   "metadata": {},
   "outputs": [
    {
     "name": "stdout",
     "output_type": "stream",
     "text": [
      "Hostname: Samuels-MacBook-Pro.local\n",
      "../../data/timelines/extract/US\n",
      "../../data/mentions\n",
      "../../data/keywords/labor/US\n"
     ]
    }
   ],
   "source": [
    "try:\n",
    "    spark\n",
    "except NameError:\n",
    "    if 'samuel' in socket.gethostname().lower():\n",
    "        print('Create Local SparkSession')\n",
    "        spark = SparkSession.builder.config(\n",
    "        \"spark.driver.host\", \"localhost\").appName(\n",
    "        \"get-tweets-mentions\").getOrCreate()\n",
    "    else:\n",
    "        print('Create Cluster SparkSession')\n",
    "        spark = SparkSession.builder.appName(\n",
    "        \"get-tweets-mentions\").getOrCreate()\n",
    "    \n",
    "# Local\n",
    "print('Hostname:', socket.gethostname())\n",
    "if  'samuel' in socket.gethostname().lower():\n",
    "    path_to_data='../../data'\n",
    "# Cluster\n",
    "else:\n",
    "    path_to_data='/user/spf248/twitter/data'\n",
    "    \n",
    "path_to_timelines=os.path.join(path_to_data,'timelines','extract',country_code)\n",
    "path_to_mentions=os.path.join(path_to_data,'mentions')\n",
    "path_to_keywords=os.path.join(path_to_data,'keywords','labor',country_code)\n",
    "print(path_to_timelines)\n",
    "print(path_to_mentions)\n",
    "print(path_to_keywords)"
   ]
  },
  {
   "cell_type": "markdown",
   "metadata": {},
   "source": [
    "# Data Processing"
   ]
  },
  {
   "cell_type": "code",
   "execution_count": 4,
   "metadata": {},
   "outputs": [
    {
     "name": "stdout",
     "output_type": "stream",
     "text": [
      "Import Datasets\n",
      "REPARTITION\n"
     ]
    },
    {
     "data": {
      "text/plain": [
       "DataFrame[tweet_id: string, created_at: timestamp, text: string, tweet_lang: string, user_id: string, user_location: string, place_id: string, tweet_longitude: double, tweet_latitude: double]"
      ]
     },
     "execution_count": 4,
     "metadata": {},
     "output_type": "execute_result"
    }
   ],
   "source": [
    "print('Import Datasets')\n",
    "df=spark.read.parquet(path_to_timelines)\n",
    "\n",
    "print(\"REPARTITION\")\n",
    "df=df.repartition(1000)\n",
    "\n",
    "df.cache()"
   ]
  },
  {
   "cell_type": "code",
   "execution_count": 5,
   "metadata": {},
   "outputs": [
    {
     "name": "stdout",
     "output_type": "stream",
     "text": [
      "SELECT LANGUAGE\n",
      "EXTRACT YEAR AND MONTH\n"
     ]
    }
   ],
   "source": [
    "print(\"REMOVE DUPLICATES\")\n",
    "df=df.drop_duplicates(subset=['tweet_id'])\n",
    "\n",
    "print(\"SELECT LANGUAGE\")\n",
    "df=df.where(df.tweet_lang==language_code)\n",
    "\n",
    "print(\"EXTRACT YEAR AND MONTH\")\n",
    "df=df.withColumn('year',year('created_at').cast(\"string\"))\n",
    "df=df.withColumn('month',month('created_at').cast(\"string\"))\n",
    "\n",
    "print(\"REMOVE RETWEETS\")\n",
    "df=df.where(~df.text.contains('RT @'))\n",
    "\n",
    "print(\"LOWERCASE\")\n",
    "df=df.withColumn('text',lower(col('text')))"
   ]
  },
  {
   "cell_type": "markdown",
   "metadata": {},
   "source": [
    "# Twitter Series"
   ]
  },
  {
   "cell_type": "code",
   "execution_count": 41,
   "metadata": {},
   "outputs": [
    {
     "name": "stdout",
     "output_type": "stream",
     "text": [
      "Most frequent target loss : I just lost my job\n",
      "Most frequent target unemployed : I wish I had a job\n",
      "Most frequent target search : I need a job\n",
      "Most frequent target hire : Starting my new job tomorrow\n",
      "Most frequent target offer : #hiring\n"
     ]
    }
   ],
   "source": [
    "cols=[]\n",
    "for wordlist in wordlists:\n",
    "    \n",
    "    targets=sorted(spark.read.csv(os.path.join(path_to_keywords,country_code+'-'+wordlist+'.txt')).toPandas()['_c0'])\n",
    "    print('# Targets:', len(targets))\n",
    "    \n",
    "    for i_target,target in enumerate(targets):\n",
    "    \n",
    "        # Create an indicator equal to one if a tweet contains the target sentence and zero otherwise\n",
    "        df=df.withColumn(wordlist+'-'+str(i_target),df.text.contains(target.lower()).cast(\"int\"))\n",
    "        cols.append(wordlist+'-'+str(i_target))\n",
    "        \n",
    "    # Create an indicator equal to one if a tweet contains at least one target sentence and zero otherwise\n",
    "    df=df.withColumn(wordlist,(sum([df.text.contains(target.lower()).cast(\"int\") for target in targets])>0).cast(\"int\"))\n",
    "    cols.append(wordlist)\n",
    "    \n",
    "df=df.drop(*['tweet_id','tweet_lang','created_at','text','place_id','tweet_longitude','tweet_latitude'])\n",
    "\n",
    "print(\"COUNT MENTIONS BY YEAR, MONTH, LOCATION, AND USER\")\n",
    "df=df.groupBy('year','month','user_location','user_id').sum()\n",
    "\n",
    "for name in cols:\n",
    "    \n",
    "    # Binarize mention multiplicity at the user level\n",
    "    df=df.withColumn(name,(df['sum('+name+')']>0).cast(\"int\"))\n",
    "    df=df.drop('sum('+name+')')\n",
    "    \n",
    "print(\"COUNT USERS BY YEAR, MONTH, LOCATION\")\n",
    "col2func=dict((name,'sum') for name in cols)\n",
    "col2func.update({'user_id':'count'})\n",
    "df=df.groupBy('year','month','user_location').agg(col2func)\n",
    "\n",
    "print(\"RENAME\")\n",
    "df=df.withColumnRenamed('count(user_id)','n_users')\n",
    "for name in cols:\n",
    "    df=df.withColumnRenamed('sum('+name+')','n_'+name)"
   ]
  },
  {
   "cell_type": "code",
   "execution_count": 123,
   "metadata": {},
   "outputs": [
    {
     "name": "stdout",
     "output_type": "stream",
     "text": [
      "SAVE\n",
      "DONE IN 163 SEC\n"
     ]
    }
   ],
   "source": [
    "print('SAVE')\n",
    "start = timer()\n",
    "\n",
    "df.write.mode(\"overwrite\").parquet(os.path.join(path_to_mentions,country_code))\n",
    "\n",
    "end = timer()\n",
    "print('DONE IN', round(end - start), 'SEC')"
   ]
  },
  {
   "cell_type": "markdown",
   "metadata": {},
   "source": [
    "Country: US\n",
    "Language: en\n",
    "Hostname: compute-1-14.local\n",
    "/user/spf248/twitter/data/timelines/extract/US\n",
    "/user/spf248/twitter/data/mentions\n",
    "/user/spf248/twitter/data/keywords/labor/US\n",
    "Import Datasets\n",
    "REPARTITION\n",
    "SELECT LANGUAGE\n",
    "EXTRACT YEAR AND MONTH\n",
    "COUNT MENTIONS\n",
    "List: loss -> N_targets: 36\n",
    "List: unemployed -> N_targets: 16\n",
    "List: search -> N_targets: 50\n",
    "List: hire -> N_targets: 29\n",
    "List: offer -> N_targets: 9\n",
    "DONE IN 4891 SEC\n",
    "SAVE\n",
    "DONE IN 18 SEC\n",
    "Most frequent mentions:\n",
    "                        target   count\n",
    "wordlist                              \n",
    "hire          I just got hired    1919\n",
    "loss          I just got fired    1772\n",
    "offer                  #hiring  796403\n",
    "search            I need a job   64187\n",
    "unemployed  I wish I had a job    2584\n",
    "Most frequent target in loss list : I just got fired\n",
    "Most frequent target in unemployed list : I wish I had a job\n",
    "Most frequent target in search list : I need a job\n",
    "Most frequent target in hire list : I just got hired\n",
    "Most frequent target in offer list : #hiring\n",
    "COUNT MENTIONS BY YEAR, MONTH, LOCATION, AND USER\n",
    "COUNT USERS BY YEAR, MONTH, LOCATION\n",
    "RENAME\n",
    "SAVE\n",
    "DONE IN 444 SEC"
   ]
  },
  {
   "cell_type": "markdown",
   "metadata": {},
   "source": [
    "Country: CO\n",
    "Language: es\n",
    "Create Cluster SparkSession\n",
    "Hostname: compute-1-14.local\n",
    "/user/spf248/twitter/data/timelines/extract/CO\n",
    "/user/spf248/twitter/data/mentions\n",
    "/user/spf248/twitter/data/keywords/labor/CO\n",
    "Import Datasets\n",
    "REPARTITION\n",
    "REMOVE DUPLICATES\n",
    "SELECT LANGUAGE\n",
    "EXTRACT YEAR AND MONTH\n",
    "COUNT MENTIONS\n",
    "List: loss -> N_targets: 30\n",
    "List: unemployed -> N_targets: 14\n",
    "List: search -> N_targets: 29\n",
    "List: hire -> N_targets: 39\n",
    "List: offer -> N_targets: 14\n",
    "DONE IN 8264 SEC\n",
    "SAVE\n",
    "DONE IN 47 SEC\n",
    "Most frequent mentions:\n",
    "                            target  count\n",
    "wordlist                                 \n",
    "hire        tengo un nuevo trabajo     43\n",
    "loss          me quede sin trabajo    677\n",
    "offer                #trabajosihay   7783\n",
    "search               busco trabajo   3990\n",
    "unemployed       Estoy sin trabajo   1103\n",
    "Most frequent target in loss list : me quede sin trabajo\n",
    "Most frequent target in unemployed list : Estoy sin trabajo\n",
    "Most frequent target in search list : busco trabajo\n",
    "Most frequent target in hire list : tengo un nuevo trabajo\n",
    "Most frequent target in offer list : #trabajosihay\n",
    "COUNT MENTIONS BY YEAR, MONTH, LOCATION, AND USER\n",
    "COUNT USERS BY YEAR, MONTH, LOCATION\n",
    "RENAME\n",
    "SAVE\n",
    "DONE IN 136 SEC"
   ]
  }
 ],
 "metadata": {
  "kernelspec": {
   "display_name": "Python 3",
   "language": "python",
   "name": "python3"
  },
  "language_info": {
   "codemirror_mode": {
    "name": "ipython",
    "version": 3
   },
   "file_extension": ".py",
   "mimetype": "text/x-python",
   "name": "python",
   "nbconvert_exporter": "python",
   "pygments_lexer": "ipython3",
   "version": "3.7.6"
  }
 },
 "nbformat": 4,
 "nbformat_minor": 2
}
