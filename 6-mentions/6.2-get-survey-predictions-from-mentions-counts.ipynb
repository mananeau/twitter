{
 "cells": [
  {
   "cell_type": "code",
   "execution_count": 1,
   "metadata": {},
   "outputs": [],
   "source": [
    "import os\n",
    "import socket\n",
    "from timeit import default_timer as timer\n",
    "from glob import glob\n",
    "import pandas as pd\n",
    "import pyarrow.parquet as pq\n",
    "\n",
    "%matplotlib inline\n",
    "import matplotlib.pyplot as plt\n",
    "import seaborn as sns"
   ]
  },
  {
   "cell_type": "code",
   "execution_count": 2,
   "metadata": {},
   "outputs": [
    {
     "name": "stdout",
     "output_type": "stream",
     "text": [
      "Country: US\n"
     ]
    }
   ],
   "source": [
    "country_code = \"US\"\n",
    "print('Country:', country_code)"
   ]
  },
  {
   "cell_type": "code",
   "execution_count": 3,
   "metadata": {},
   "outputs": [
    {
     "name": "stdout",
     "output_type": "stream",
     "text": [
      "Hostname: c09-03\n",
      "/scratch/spf248/twitter/data/mentions/US\n",
      "/scratch/spf248/twitter/data/official\n"
     ]
    }
   ],
   "source": [
    "# Local\n",
    "print('Hostname:', socket.gethostname())\n",
    "if  'samuel' in socket.gethostname().lower():\n",
    "    path_to_data='../../data'\n",
    "# Cluster\n",
    "else:\n",
    "    path_to_data='/scratch/spf248/twitter/data'\n",
    "    \n",
    "path_to_mentions=os.path.join(path_to_data,'mentions',country_code)\n",
    "path_to_official_data=os.path.join(path_to_data,'official')\n",
    "print(path_to_mentions)\n",
    "print(path_to_official_data)"
   ]
  },
  {
   "cell_type": "markdown",
   "metadata": {},
   "source": [
    "# Twitter Labor Market Indicators"
   ]
  },
  {
   "cell_type": "code",
   "execution_count": 4,
   "metadata": {},
   "outputs": [
    {
     "name": "stdout",
     "output_type": "stream",
     "text": [
      "Import Mentions Counts\n",
      "# obs: 5501126\n",
      "Done in 2 sec\n"
     ]
    }
   ],
   "source": [
    "print('Import Mentions Counts')\n",
    "start = timer()\n",
    "\n",
    "mentions=pq.ParquetDataset(glob(os.path.join(path_to_mentions,'*.parquet'))).read().to_pandas()\n",
    "print('# obs:', mentions.shape[0])\n",
    "\n",
    "print(\"Done in\", round(timer()-start), \"sec\")"
   ]
  },
  {
   "cell_type": "code",
   "execution_count": 5,
   "metadata": {},
   "outputs": [
    {
     "data": {
      "text/html": [
       "<div>\n",
       "<style scoped>\n",
       "    .dataframe tbody tr th:only-of-type {\n",
       "        vertical-align: middle;\n",
       "    }\n",
       "\n",
       "    .dataframe tbody tr th {\n",
       "        vertical-align: top;\n",
       "    }\n",
       "\n",
       "    .dataframe thead th {\n",
       "        text-align: right;\n",
       "    }\n",
       "</style>\n",
       "<table border=\"1\" class=\"dataframe\">\n",
       "  <thead>\n",
       "    <tr style=\"text-align: right;\">\n",
       "      <th></th>\n",
       "      <th>year</th>\n",
       "      <th>month</th>\n",
       "      <th>user_location</th>\n",
       "      <th>n_users</th>\n",
       "      <th>n_hire</th>\n",
       "      <th>n_offer</th>\n",
       "      <th>n_loss</th>\n",
       "      <th>n_unemployed</th>\n",
       "      <th>n_search</th>\n",
       "    </tr>\n",
       "  </thead>\n",
       "  <tbody>\n",
       "    <tr>\n",
       "      <th>0</th>\n",
       "      <td>2012</td>\n",
       "      <td>3</td>\n",
       "      <td>Bakersfield</td>\n",
       "      <td>100</td>\n",
       "      <td>0</td>\n",
       "      <td>0</td>\n",
       "      <td>0</td>\n",
       "      <td>0</td>\n",
       "      <td>0</td>\n",
       "    </tr>\n",
       "    <tr>\n",
       "      <th>1</th>\n",
       "      <td>2015</td>\n",
       "      <td>9</td>\n",
       "      <td>MISSISSIPPI</td>\n",
       "      <td>33</td>\n",
       "      <td>0</td>\n",
       "      <td>0</td>\n",
       "      <td>0</td>\n",
       "      <td>0</td>\n",
       "      <td>0</td>\n",
       "    </tr>\n",
       "    <tr>\n",
       "      <th>2</th>\n",
       "      <td>2014</td>\n",
       "      <td>1</td>\n",
       "      <td>Tampa, FL</td>\n",
       "      <td>2618</td>\n",
       "      <td>0</td>\n",
       "      <td>10</td>\n",
       "      <td>0</td>\n",
       "      <td>0</td>\n",
       "      <td>0</td>\n",
       "    </tr>\n",
       "    <tr>\n",
       "      <th>3</th>\n",
       "      <td>2016</td>\n",
       "      <td>12</td>\n",
       "      <td></td>\n",
       "      <td>35503</td>\n",
       "      <td>0</td>\n",
       "      <td>13</td>\n",
       "      <td>2</td>\n",
       "      <td>2</td>\n",
       "      <td>25</td>\n",
       "    </tr>\n",
       "    <tr>\n",
       "      <th>4</th>\n",
       "      <td>2016</td>\n",
       "      <td>11</td>\n",
       "      <td>Boca Raton, FL</td>\n",
       "      <td>861</td>\n",
       "      <td>0</td>\n",
       "      <td>3</td>\n",
       "      <td>0</td>\n",
       "      <td>0</td>\n",
       "      <td>0</td>\n",
       "    </tr>\n",
       "  </tbody>\n",
       "</table>\n",
       "</div>"
      ],
      "text/plain": [
       "   year month   user_location  n_users  n_hire  n_offer  n_loss  n_unemployed  \\\n",
       "0  2012     3     Bakersfield      100       0        0       0             0   \n",
       "1  2015     9     MISSISSIPPI       33       0        0       0             0   \n",
       "2  2014     1       Tampa, FL     2618       0       10       0             0   \n",
       "3  2016    12                    35503       0       13       2             2   \n",
       "4  2016    11  Boca Raton, FL      861       0        3       0             0   \n",
       "\n",
       "   n_search  \n",
       "0         0  \n",
       "1         0  \n",
       "2         0  \n",
       "3        25  \n",
       "4         0  "
      ]
     },
     "execution_count": 5,
     "metadata": {},
     "output_type": "execute_result"
    }
   ],
   "source": [
    "mentions.head()"
   ]
  },
  {
   "cell_type": "code",
   "execution_count": 6,
   "metadata": {},
   "outputs": [
    {
     "data": {
      "text/plain": [
       "n_users         157950183\n",
       "n_hire               4327\n",
       "n_offer            309501\n",
       "n_loss               7541\n",
       "n_unemployed         4529\n",
       "n_search            68615\n",
       "dtype: int64"
      ]
     },
     "execution_count": 6,
     "metadata": {},
     "output_type": "execute_result"
    }
   ],
   "source": [
    "mentions.filter(regex='n_').sum()"
   ]
  },
  {
   "cell_type": "markdown",
   "metadata": {},
   "source": [
    "# Twitter Account Locations Geocoded"
   ]
  },
  {
   "cell_type": "code",
   "execution_count": 7,
   "metadata": {},
   "outputs": [],
   "source": [
    "locations=pd.read_pickle(os.path.join(path_to_data,'locations','profiles','account-locations.pkl'))\n",
    "\n",
    "locations=locations[\n",
    "locations.country_short==country_code].drop(\n",
    "['n_users','latitude','longitude'],1).reset_index(drop=True)"
   ]
  },
  {
   "cell_type": "code",
   "execution_count": 8,
   "metadata": {},
   "outputs": [
    {
     "data": {
      "text/html": [
       "<div>\n",
       "<style scoped>\n",
       "    .dataframe tbody tr th:only-of-type {\n",
       "        vertical-align: middle;\n",
       "    }\n",
       "\n",
       "    .dataframe tbody tr th {\n",
       "        vertical-align: top;\n",
       "    }\n",
       "\n",
       "    .dataframe thead th {\n",
       "        text-align: right;\n",
       "    }\n",
       "</style>\n",
       "<table border=\"1\" class=\"dataframe\">\n",
       "  <thead>\n",
       "    <tr style=\"text-align: right;\">\n",
       "      <th></th>\n",
       "      <th>user_location</th>\n",
       "      <th>country_long</th>\n",
       "      <th>country_short</th>\n",
       "      <th>locality_long</th>\n",
       "      <th>locality_short</th>\n",
       "      <th>administrative_area_level_1_long</th>\n",
       "      <th>administrative_area_level_1_short</th>\n",
       "      <th>administrative_area_level_2_long</th>\n",
       "      <th>administrative_area_level_2_short</th>\n",
       "    </tr>\n",
       "  </thead>\n",
       "  <tbody>\n",
       "    <tr>\n",
       "      <th>0</th>\n",
       "      <td>New York</td>\n",
       "      <td>United States</td>\n",
       "      <td>US</td>\n",
       "      <td>New York</td>\n",
       "      <td>New York</td>\n",
       "      <td>New York</td>\n",
       "      <td>NY</td>\n",
       "      <td>NaN</td>\n",
       "      <td>NaN</td>\n",
       "    </tr>\n",
       "    <tr>\n",
       "      <th>1</th>\n",
       "      <td>Los Angeles</td>\n",
       "      <td>United States</td>\n",
       "      <td>US</td>\n",
       "      <td>Los Angeles</td>\n",
       "      <td>Los Angeles</td>\n",
       "      <td>California</td>\n",
       "      <td>CA</td>\n",
       "      <td>Los Angeles County</td>\n",
       "      <td>Los Angeles County</td>\n",
       "    </tr>\n",
       "    <tr>\n",
       "      <th>2</th>\n",
       "      <td>Los Angeles, CA</td>\n",
       "      <td>United States</td>\n",
       "      <td>US</td>\n",
       "      <td>Los Angeles</td>\n",
       "      <td>Los Angeles</td>\n",
       "      <td>California</td>\n",
       "      <td>CA</td>\n",
       "      <td>Los Angeles County</td>\n",
       "      <td>Los Angeles County</td>\n",
       "    </tr>\n",
       "    <tr>\n",
       "      <th>3</th>\n",
       "      <td>Chicago</td>\n",
       "      <td>United States</td>\n",
       "      <td>US</td>\n",
       "      <td>Chicago</td>\n",
       "      <td>Chicago</td>\n",
       "      <td>Illinois</td>\n",
       "      <td>IL</td>\n",
       "      <td>Cook County</td>\n",
       "      <td>Cook County</td>\n",
       "    </tr>\n",
       "    <tr>\n",
       "      <th>4</th>\n",
       "      <td>New York, NY</td>\n",
       "      <td>United States</td>\n",
       "      <td>US</td>\n",
       "      <td>New York</td>\n",
       "      <td>New York</td>\n",
       "      <td>New York</td>\n",
       "      <td>NY</td>\n",
       "      <td>NaN</td>\n",
       "      <td>NaN</td>\n",
       "    </tr>\n",
       "  </tbody>\n",
       "</table>\n",
       "</div>"
      ],
      "text/plain": [
       "     user_location   country_long country_short locality_long locality_short  \\\n",
       "0         New York  United States            US      New York       New York   \n",
       "1      Los Angeles  United States            US   Los Angeles    Los Angeles   \n",
       "2  Los Angeles, CA  United States            US   Los Angeles    Los Angeles   \n",
       "3          Chicago  United States            US       Chicago        Chicago   \n",
       "4     New York, NY  United States            US      New York       New York   \n",
       "\n",
       "  administrative_area_level_1_long administrative_area_level_1_short  \\\n",
       "0                         New York                                NY   \n",
       "1                       California                                CA   \n",
       "2                       California                                CA   \n",
       "3                         Illinois                                IL   \n",
       "4                         New York                                NY   \n",
       "\n",
       "  administrative_area_level_2_long administrative_area_level_2_short  \n",
       "0                              NaN                               NaN  \n",
       "1               Los Angeles County                Los Angeles County  \n",
       "2               Los Angeles County                Los Angeles County  \n",
       "3                      Cook County                       Cook County  \n",
       "4                              NaN                               NaN  "
      ]
     },
     "execution_count": 8,
     "metadata": {},
     "output_type": "execute_result"
    }
   ],
   "source": [
    "locations.head()"
   ]
  },
  {
   "cell_type": "markdown",
   "metadata": {},
   "source": [
    "# Labor Market Statistics"
   ]
  },
  {
   "cell_type": "code",
   "execution_count": 9,
   "metadata": {},
   "outputs": [],
   "source": [
    "surveys=pd.read_csv(os.path.join(path_to_official_data,'surveys',country_code+'.csv'))"
   ]
  },
  {
   "cell_type": "code",
   "execution_count": 10,
   "metadata": {
    "scrolled": true
   },
   "outputs": [
    {
     "data": {
      "text/html": [
       "<div>\n",
       "<style scoped>\n",
       "    .dataframe tbody tr th:only-of-type {\n",
       "        vertical-align: middle;\n",
       "    }\n",
       "\n",
       "    .dataframe tbody tr th {\n",
       "        vertical-align: top;\n",
       "    }\n",
       "\n",
       "    .dataframe thead th {\n",
       "        text-align: right;\n",
       "    }\n",
       "</style>\n",
       "<table border=\"1\" class=\"dataframe\">\n",
       "  <thead>\n",
       "    <tr style=\"text-align: right;\">\n",
       "      <th></th>\n",
       "      <th>year</th>\n",
       "      <th>month</th>\n",
       "      <th>quarter</th>\n",
       "      <th>administrative_area_level_1</th>\n",
       "      <th>administrative_area_level_2</th>\n",
       "      <th>urban_or_rural</th>\n",
       "      <th>unemployed</th>\n",
       "      <th>employed</th>\n",
       "    </tr>\n",
       "  </thead>\n",
       "  <tbody>\n",
       "    <tr>\n",
       "      <th>0</th>\n",
       "      <td>1990</td>\n",
       "      <td>1</td>\n",
       "      <td>1</td>\n",
       "      <td>AL</td>\n",
       "      <td>Autauga County</td>\n",
       "      <td>Both</td>\n",
       "      <td>6.4</td>\n",
       "      <td>NaN</td>\n",
       "    </tr>\n",
       "    <tr>\n",
       "      <th>1</th>\n",
       "      <td>1990</td>\n",
       "      <td>2</td>\n",
       "      <td>1</td>\n",
       "      <td>AL</td>\n",
       "      <td>Autauga County</td>\n",
       "      <td>Both</td>\n",
       "      <td>6.6</td>\n",
       "      <td>NaN</td>\n",
       "    </tr>\n",
       "    <tr>\n",
       "      <th>2</th>\n",
       "      <td>1990</td>\n",
       "      <td>3</td>\n",
       "      <td>1</td>\n",
       "      <td>AL</td>\n",
       "      <td>Autauga County</td>\n",
       "      <td>Both</td>\n",
       "      <td>5.8</td>\n",
       "      <td>NaN</td>\n",
       "    </tr>\n",
       "    <tr>\n",
       "      <th>3</th>\n",
       "      <td>1990</td>\n",
       "      <td>4</td>\n",
       "      <td>2</td>\n",
       "      <td>AL</td>\n",
       "      <td>Autauga County</td>\n",
       "      <td>Both</td>\n",
       "      <td>6.6</td>\n",
       "      <td>NaN</td>\n",
       "    </tr>\n",
       "    <tr>\n",
       "      <th>4</th>\n",
       "      <td>1990</td>\n",
       "      <td>5</td>\n",
       "      <td>2</td>\n",
       "      <td>AL</td>\n",
       "      <td>Autauga County</td>\n",
       "      <td>Both</td>\n",
       "      <td>6.0</td>\n",
       "      <td>NaN</td>\n",
       "    </tr>\n",
       "  </tbody>\n",
       "</table>\n",
       "</div>"
      ],
      "text/plain": [
       "   year  month  quarter administrative_area_level_1  \\\n",
       "0  1990      1        1                          AL   \n",
       "1  1990      2        1                          AL   \n",
       "2  1990      3        1                          AL   \n",
       "3  1990      4        2                          AL   \n",
       "4  1990      5        2                          AL   \n",
       "\n",
       "  administrative_area_level_2 urban_or_rural  unemployed  employed  \n",
       "0              Autauga County           Both         6.4       NaN  \n",
       "1              Autauga County           Both         6.6       NaN  \n",
       "2              Autauga County           Both         5.8       NaN  \n",
       "3              Autauga County           Both         6.6       NaN  \n",
       "4              Autauga County           Both         6.0       NaN  "
      ]
     },
     "execution_count": 10,
     "metadata": {},
     "output_type": "execute_result"
    }
   ],
   "source": [
    "surveys.head()"
   ]
  },
  {
   "cell_type": "code",
   "execution_count": 11,
   "metadata": {},
   "outputs": [],
   "source": [
    "aggregates=pd.read_csv(os.path.join(path_to_official_data,'aggregates','monthly.csv'))"
   ]
  },
  {
   "cell_type": "code",
   "execution_count": 12,
   "metadata": {},
   "outputs": [
    {
     "data": {
      "text/html": [
       "<div>\n",
       "<style scoped>\n",
       "    .dataframe tbody tr th:only-of-type {\n",
       "        vertical-align: middle;\n",
       "    }\n",
       "\n",
       "    .dataframe tbody tr th {\n",
       "        vertical-align: top;\n",
       "    }\n",
       "\n",
       "    .dataframe thead th {\n",
       "        text-align: right;\n",
       "    }\n",
       "</style>\n",
       "<table border=\"1\" class=\"dataframe\">\n",
       "  <thead>\n",
       "    <tr style=\"text-align: right;\">\n",
       "      <th></th>\n",
       "      <th>date</th>\n",
       "      <th>BR</th>\n",
       "      <th>CL</th>\n",
       "      <th>CO</th>\n",
       "      <th>MX</th>\n",
       "      <th>MY</th>\n",
       "      <th>PE</th>\n",
       "      <th>TH</th>\n",
       "      <th>US</th>\n",
       "      <th>VE</th>\n",
       "    </tr>\n",
       "  </thead>\n",
       "  <tbody>\n",
       "    <tr>\n",
       "      <th>0</th>\n",
       "      <td>2010-01-31</td>\n",
       "      <td>NaN</td>\n",
       "      <td>9.904</td>\n",
       "      <td>14.6</td>\n",
       "      <td>5.76</td>\n",
       "      <td>3.5</td>\n",
       "      <td>9.3</td>\n",
       "      <td>1.40</td>\n",
       "      <td>10.6</td>\n",
       "      <td>10.2</td>\n",
       "    </tr>\n",
       "    <tr>\n",
       "      <th>1</th>\n",
       "      <td>2010-02-28</td>\n",
       "      <td>NaN</td>\n",
       "      <td>9.330</td>\n",
       "      <td>12.6</td>\n",
       "      <td>5.28</td>\n",
       "      <td>3.5</td>\n",
       "      <td>10.5</td>\n",
       "      <td>1.00</td>\n",
       "      <td>10.4</td>\n",
       "      <td>8.6</td>\n",
       "    </tr>\n",
       "    <tr>\n",
       "      <th>2</th>\n",
       "      <td>2010-03-31</td>\n",
       "      <td>NaN</td>\n",
       "      <td>9.228</td>\n",
       "      <td>11.8</td>\n",
       "      <td>4.74</td>\n",
       "      <td>3.5</td>\n",
       "      <td>7.7</td>\n",
       "      <td>0.96</td>\n",
       "      <td>10.2</td>\n",
       "      <td>8.7</td>\n",
       "    </tr>\n",
       "    <tr>\n",
       "      <th>3</th>\n",
       "      <td>2010-04-30</td>\n",
       "      <td>NaN</td>\n",
       "      <td>8.836</td>\n",
       "      <td>12.2</td>\n",
       "      <td>5.35</td>\n",
       "      <td>3.0</td>\n",
       "      <td>8.8</td>\n",
       "      <td>1.18</td>\n",
       "      <td>9.5</td>\n",
       "      <td>8.2</td>\n",
       "    </tr>\n",
       "    <tr>\n",
       "      <th>4</th>\n",
       "      <td>2010-05-31</td>\n",
       "      <td>NaN</td>\n",
       "      <td>9.088</td>\n",
       "      <td>12.0</td>\n",
       "      <td>5.00</td>\n",
       "      <td>3.3</td>\n",
       "      <td>6.7</td>\n",
       "      <td>1.54</td>\n",
       "      <td>9.3</td>\n",
       "      <td>8.1</td>\n",
       "    </tr>\n",
       "  </tbody>\n",
       "</table>\n",
       "</div>"
      ],
      "text/plain": [
       "         date  BR     CL    CO    MX   MY    PE    TH    US    VE\n",
       "0  2010-01-31 NaN  9.904  14.6  5.76  3.5   9.3  1.40  10.6  10.2\n",
       "1  2010-02-28 NaN  9.330  12.6  5.28  3.5  10.5  1.00  10.4   8.6\n",
       "2  2010-03-31 NaN  9.228  11.8  4.74  3.5   7.7  0.96  10.2   8.7\n",
       "3  2010-04-30 NaN  8.836  12.2  5.35  3.0   8.8  1.18   9.5   8.2\n",
       "4  2010-05-31 NaN  9.088  12.0  5.00  3.3   6.7  1.54   9.3   8.1"
      ]
     },
     "execution_count": 12,
     "metadata": {},
     "output_type": "execute_result"
    }
   ],
   "source": [
    "aggregates.head()"
   ]
  },
  {
   "cell_type": "markdown",
   "metadata": {},
   "source": [
    "# Country-level Time Series"
   ]
  },
  {
   "cell_type": "code",
   "execution_count": 13,
   "metadata": {},
   "outputs": [],
   "source": [
    "mentions=pd.merge(mentions,locations[['user_location']]).drop('user_location',1)\n",
    "mentions=mentions.groupby(['year','month'],as_index=False).sum()\n",
    "mentions.year=mentions.year.astype(int)\n",
    "mentions.month=mentions.month.astype(int)\n",
    "mentions.sort_values(by=['year','month'],inplace=True)\n",
    "mentions=mentions[mentions.year<2020].copy()"
   ]
  },
  {
   "cell_type": "code",
   "execution_count": 14,
   "metadata": {},
   "outputs": [],
   "source": [
    "aggregates=aggregates[['date',country_code]].copy()\n",
    "aggregates['year']=aggregates['date'].map(lambda x:pd.to_datetime(x).year)\n",
    "aggregates['month']=aggregates['date'].map(lambda x:pd.to_datetime(x).month)\n",
    "aggregates.rename(columns={country_code:'unemployment'},inplace=True)\n",
    "aggregates.drop('date',1,inplace=True)"
   ]
  },
  {
   "cell_type": "code",
   "execution_count": 15,
   "metadata": {},
   "outputs": [],
   "source": [
    "df=pd.merge(aggregates,mentions)\n",
    "df=pd.concat([\n",
    "df.drop(df.filter(regex='n_').columns,1),\n",
    "df.filter(regex='n_').divide(df.n_users,axis=0).drop('n_users',1)],1)\n",
    "df['date']=df[['year','month']].apply(lambda x:'-'.join([str(y) for y in x]),1)\n",
    "df[df.filter(regex='n_').columns]=df[df.filter(regex='n_').columns]*1000000"
   ]
  },
  {
   "cell_type": "code",
   "execution_count": 16,
   "metadata": {},
   "outputs": [
    {
     "data": {
      "image/png": "[encoded data removed]",
      "text/plain": [
       "<Figure size 432x288 with 2 Axes>"
      ]
     },
     "metadata": {},
     "output_type": "display_data"
    }
   ],
   "source": [
    "with sns.axes_style(\"white\"):\n",
    "    sns.set_style(\"ticks\")\n",
    "    \n",
    "    fig,ax=plt.subplots()\n",
    "    df.iloc[30:110].plot(ax=ax,y='unemployment',x='date',label='Unemployment rate')\n",
    "    df.iloc[30:110].plot(ax=ax,y='n_search',secondary_y=True,x='date',label='Twitter users searching for a job')\n",
    "    ax.set_xlabel('')\n",
    "    ax.tick_params(which='both',direction='in',pad=3)\n",
    "    ax.set_xticklabels(ax.get_xticklabels(),rotation=45,ha='right')\n",
    "    ax.set_title(country_code,fontweight='bold')"
   ]
  }
 ],
 "metadata": {
  "kernelspec": {
   "display_name": "Python 3",
   "language": "python",
   "name": "python3"
  },
  "language_info": {
   "codemirror_mode": {
    "name": "ipython",
    "version": 3
   },
   "file_extension": ".py",
   "mimetype": "text/x-python",
   "name": "python",
   "nbconvert_exporter": "python",
   "pygments_lexer": "ipython3",
   "version": "3.7.0"
  }
 },
 "nbformat": 4,
 "nbformat_minor": 2
}
