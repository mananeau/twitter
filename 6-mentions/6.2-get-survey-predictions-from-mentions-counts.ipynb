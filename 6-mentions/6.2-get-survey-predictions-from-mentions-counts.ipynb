{
 "cells": [
  {
   "cell_type": "code",
   "execution_count": 1,
   "metadata": {},
   "outputs": [],
   "source": [
    "import os\n",
    "import socket\n",
    "from timeit import default_timer as timer\n",
    "from glob import glob\n",
    "import pandas as pd\n",
    "import pyarrow.parquet as pq\n",
    "\n",
    "%matplotlib inline\n",
    "import matplotlib.pyplot as plt\n",
    "import seaborn as sns"
   ]
  },
  {
   "cell_type": "code",
   "execution_count": 2,
   "metadata": {},
   "outputs": [
    {
     "name": "stdout",
     "output_type": "stream",
     "text": [
      "Country: MX\n"
     ]
    }
   ],
   "source": [
    "country_code = \"MX\"\n",
    "print('Country:', country_code)"
   ]
  },
  {
   "cell_type": "code",
   "execution_count": 3,
   "metadata": {},
   "outputs": [
    {
     "name": "stdout",
     "output_type": "stream",
     "text": [
      "Hostname: Samuels-MBP\n",
      "../../data/mentions\n",
      "../../data/official\n"
     ]
    }
   ],
   "source": [
    "# Local\n",
    "print('Hostname:', socket.gethostname())\n",
    "if  'samuel' in socket.gethostname().lower():\n",
    "    path_to_data='../../data'\n",
    "# Cluster\n",
    "else:\n",
    "    path_to_data='/scratch/spf248/twitter/data'\n",
    "    \n",
    "path_to_mentions=os.path.join(path_to_data,'mentions')\n",
    "path_to_official_data=os.path.join(path_to_data,'official')\n",
    "print(path_to_mentions)\n",
    "print(path_to_official_data)"
   ]
  },
  {
   "cell_type": "markdown",
   "metadata": {},
   "source": [
    "# Twitter Labor Market Indicators"
   ]
  },
  {
   "cell_type": "code",
   "execution_count": 4,
   "metadata": {},
   "outputs": [
    {
     "name": "stdout",
     "output_type": "stream",
     "text": [
      "Import Mentions Counts\n",
      "# obs: 1224626\n",
      "Done in 1 sec\n"
     ]
    }
   ],
   "source": [
    "print('Import Mentions Counts')\n",
    "start = timer()\n",
    "\n",
    "mentions=pq.ParquetDataset(glob(os.path.join(path_to_mentions,'series',country_code,'*.parquet'))).read().to_pandas()\n",
    "counts=pq.ParquetDataset(glob(os.path.join(path_to_mentions,'counts',country_code,'*.parquet'))).read().to_pandas()\n",
    "print('# obs:', mentions.shape[0])\n",
    "\n",
    "print(\"Done in\", round(timer()-start), \"sec\")"
   ]
  },
  {
   "cell_type": "code",
   "execution_count": 5,
   "metadata": {},
   "outputs": [
    {
     "data": {
      "text/html": [
       "<div>\n",
       "<style scoped>\n",
       "    .dataframe tbody tr th:only-of-type {\n",
       "        vertical-align: middle;\n",
       "    }\n",
       "\n",
       "    .dataframe tbody tr th {\n",
       "        vertical-align: top;\n",
       "    }\n",
       "\n",
       "    .dataframe thead th {\n",
       "        text-align: right;\n",
       "    }\n",
       "</style>\n",
       "<table border=\"1\" class=\"dataframe\">\n",
       "  <thead>\n",
       "    <tr style=\"text-align: right;\">\n",
       "      <th></th>\n",
       "      <th>target</th>\n",
       "      <th>count</th>\n",
       "    </tr>\n",
       "    <tr>\n",
       "      <th>wordlist</th>\n",
       "      <th></th>\n",
       "      <th></th>\n",
       "    </tr>\n",
       "  </thead>\n",
       "  <tbody>\n",
       "    <tr>\n",
       "      <th>hire</th>\n",
       "      <td>tengo un nuevo trabajo</td>\n",
       "      <td>167</td>\n",
       "    </tr>\n",
       "    <tr>\n",
       "      <th>loss</th>\n",
       "      <td>me quede sin trabajo</td>\n",
       "      <td>1622</td>\n",
       "    </tr>\n",
       "    <tr>\n",
       "      <th>offer</th>\n",
       "      <td>#vacante</td>\n",
       "      <td>30376</td>\n",
       "    </tr>\n",
       "    <tr>\n",
       "      <th>search</th>\n",
       "      <td>busco trabajo</td>\n",
       "      <td>5139</td>\n",
       "    </tr>\n",
       "    <tr>\n",
       "      <th>unemployed</th>\n",
       "      <td>Estoy desempleado</td>\n",
       "      <td>369</td>\n",
       "    </tr>\n",
       "  </tbody>\n",
       "</table>\n",
       "</div>"
      ],
      "text/plain": [
       "                            target  count\n",
       "wordlist                                 \n",
       "hire        tengo un nuevo trabajo    167\n",
       "loss          me quede sin trabajo   1622\n",
       "offer                     #vacante  30376\n",
       "search               busco trabajo   5139\n",
       "unemployed       Estoy desempleado    369"
      ]
     },
     "execution_count": 5,
     "metadata": {},
     "output_type": "execute_result"
    }
   ],
   "source": [
    "counts.sort_values(by=['wordlist','count'],ascending=[True,False]).groupby('wordlist').first()"
   ]
  },
  {
   "cell_type": "code",
   "execution_count": 6,
   "metadata": {},
   "outputs": [
    {
     "data": {
      "text/html": [
       "<div>\n",
       "<style scoped>\n",
       "    .dataframe tbody tr th:only-of-type {\n",
       "        vertical-align: middle;\n",
       "    }\n",
       "\n",
       "    .dataframe tbody tr th {\n",
       "        vertical-align: top;\n",
       "    }\n",
       "\n",
       "    .dataframe thead th {\n",
       "        text-align: right;\n",
       "    }\n",
       "</style>\n",
       "<table border=\"1\" class=\"dataframe\">\n",
       "  <thead>\n",
       "    <tr style=\"text-align: right;\">\n",
       "      <th></th>\n",
       "      <th>year</th>\n",
       "      <th>month</th>\n",
       "      <th>user_location</th>\n",
       "      <th>n_users</th>\n",
       "      <th>n_hire</th>\n",
       "      <th>n_offer</th>\n",
       "      <th>n_loss</th>\n",
       "      <th>n_unemployed</th>\n",
       "      <th>n_search</th>\n",
       "    </tr>\n",
       "  </thead>\n",
       "  <tbody>\n",
       "    <tr>\n",
       "      <th>0</th>\n",
       "      <td>2018</td>\n",
       "      <td>5</td>\n",
       "      <td>Saltillo, Coahuila de Zaragoza</td>\n",
       "      <td>2081</td>\n",
       "      <td>0</td>\n",
       "      <td>0</td>\n",
       "      <td>0</td>\n",
       "      <td>0</td>\n",
       "      <td>0</td>\n",
       "    </tr>\n",
       "    <tr>\n",
       "      <th>1</th>\n",
       "      <td>2011</td>\n",
       "      <td>11</td>\n",
       "      <td>Querétaro</td>\n",
       "      <td>942</td>\n",
       "      <td>0</td>\n",
       "      <td>0</td>\n",
       "      <td>0</td>\n",
       "      <td>0</td>\n",
       "      <td>0</td>\n",
       "    </tr>\n",
       "    <tr>\n",
       "      <th>2</th>\n",
       "      <td>2011</td>\n",
       "      <td>11</td>\n",
       "      <td>estado de mexico</td>\n",
       "      <td>476</td>\n",
       "      <td>0</td>\n",
       "      <td>0</td>\n",
       "      <td>0</td>\n",
       "      <td>0</td>\n",
       "      <td>0</td>\n",
       "    </tr>\n",
       "    <tr>\n",
       "      <th>3</th>\n",
       "      <td>2011</td>\n",
       "      <td>12</td>\n",
       "      <td>tampico</td>\n",
       "      <td>314</td>\n",
       "      <td>0</td>\n",
       "      <td>0</td>\n",
       "      <td>0</td>\n",
       "      <td>0</td>\n",
       "      <td>0</td>\n",
       "    </tr>\n",
       "    <tr>\n",
       "      <th>4</th>\n",
       "      <td>2011</td>\n",
       "      <td>4</td>\n",
       "      <td>Monterrey</td>\n",
       "      <td>3772</td>\n",
       "      <td>0</td>\n",
       "      <td>1</td>\n",
       "      <td>0</td>\n",
       "      <td>0</td>\n",
       "      <td>0</td>\n",
       "    </tr>\n",
       "  </tbody>\n",
       "</table>\n",
       "</div>"
      ],
      "text/plain": [
       "   year month                   user_location  n_users  n_hire  n_offer  \\\n",
       "0  2018     5  Saltillo, Coahuila de Zaragoza     2081       0        0   \n",
       "1  2011    11                       Querétaro      942       0        0   \n",
       "2  2011    11                estado de mexico      476       0        0   \n",
       "3  2011    12                         tampico      314       0        0   \n",
       "4  2011     4                       Monterrey     3772       0        1   \n",
       "\n",
       "   n_loss  n_unemployed  n_search  \n",
       "0       0             0         0  \n",
       "1       0             0         0  \n",
       "2       0             0         0  \n",
       "3       0             0         0  \n",
       "4       0             0         0  "
      ]
     },
     "execution_count": 6,
     "metadata": {},
     "output_type": "execute_result"
    }
   ],
   "source": [
    "mentions.head()"
   ]
  },
  {
   "cell_type": "code",
   "execution_count": 7,
   "metadata": {},
   "outputs": [
    {
     "data": {
      "text/plain": [
       "n_users         63405888\n",
       "n_hire               164\n",
       "n_offer             7931\n",
       "n_loss              1496\n",
       "n_unemployed         361\n",
       "n_search            4826\n",
       "dtype: int64"
      ]
     },
     "execution_count": 7,
     "metadata": {},
     "output_type": "execute_result"
    }
   ],
   "source": [
    "mentions.filter(regex='n_').sum()"
   ]
  },
  {
   "cell_type": "markdown",
   "metadata": {},
   "source": [
    "# Twitter Account Locations Geocoded"
   ]
  },
  {
   "cell_type": "code",
   "execution_count": 8,
   "metadata": {},
   "outputs": [],
   "source": [
    "locations=pd.read_pickle(os.path.join(path_to_data,'locations','profiles','account-locations.pkl'))\n",
    "\n",
    "locations=locations[\n",
    "locations.country_short==country_code].drop(\n",
    "['n_users','latitude','longitude'],1).reset_index(drop=True)"
   ]
  },
  {
   "cell_type": "code",
   "execution_count": 9,
   "metadata": {},
   "outputs": [
    {
     "data": {
      "text/html": [
       "<div>\n",
       "<style scoped>\n",
       "    .dataframe tbody tr th:only-of-type {\n",
       "        vertical-align: middle;\n",
       "    }\n",
       "\n",
       "    .dataframe tbody tr th {\n",
       "        vertical-align: top;\n",
       "    }\n",
       "\n",
       "    .dataframe thead th {\n",
       "        text-align: right;\n",
       "    }\n",
       "</style>\n",
       "<table border=\"1\" class=\"dataframe\">\n",
       "  <thead>\n",
       "    <tr style=\"text-align: right;\">\n",
       "      <th></th>\n",
       "      <th>user_location</th>\n",
       "      <th>country_long</th>\n",
       "      <th>country_short</th>\n",
       "      <th>locality_long</th>\n",
       "      <th>locality_short</th>\n",
       "      <th>administrative_area_level_1_long</th>\n",
       "      <th>administrative_area_level_1_short</th>\n",
       "      <th>administrative_area_level_2_long</th>\n",
       "      <th>administrative_area_level_2_short</th>\n",
       "    </tr>\n",
       "  </thead>\n",
       "  <tbody>\n",
       "    <tr>\n",
       "      <th>0</th>\n",
       "      <td>México</td>\n",
       "      <td>Mexico</td>\n",
       "      <td>MX</td>\n",
       "      <td>NaN</td>\n",
       "      <td>NaN</td>\n",
       "      <td>NaN</td>\n",
       "      <td>NaN</td>\n",
       "      <td>NaN</td>\n",
       "      <td>NaN</td>\n",
       "    </tr>\n",
       "    <tr>\n",
       "      <th>1</th>\n",
       "      <td>Mexico</td>\n",
       "      <td>Mexico</td>\n",
       "      <td>MX</td>\n",
       "      <td>NaN</td>\n",
       "      <td>NaN</td>\n",
       "      <td>NaN</td>\n",
       "      <td>NaN</td>\n",
       "      <td>NaN</td>\n",
       "      <td>NaN</td>\n",
       "    </tr>\n",
       "    <tr>\n",
       "      <th>2</th>\n",
       "      <td>mexico</td>\n",
       "      <td>Mexico</td>\n",
       "      <td>MX</td>\n",
       "      <td>NaN</td>\n",
       "      <td>NaN</td>\n",
       "      <td>NaN</td>\n",
       "      <td>NaN</td>\n",
       "      <td>NaN</td>\n",
       "      <td>NaN</td>\n",
       "    </tr>\n",
       "    <tr>\n",
       "      <th>3</th>\n",
       "      <td>Mexico City</td>\n",
       "      <td>Mexico</td>\n",
       "      <td>MX</td>\n",
       "      <td>Mexico City</td>\n",
       "      <td>México D.F.</td>\n",
       "      <td>Mexico City</td>\n",
       "      <td>CDMX</td>\n",
       "      <td>NaN</td>\n",
       "      <td>NaN</td>\n",
       "    </tr>\n",
       "    <tr>\n",
       "      <th>4</th>\n",
       "      <td>Monterrey</td>\n",
       "      <td>Mexico</td>\n",
       "      <td>MX</td>\n",
       "      <td>Monterrey</td>\n",
       "      <td>Monterrey</td>\n",
       "      <td>Nuevo Leon</td>\n",
       "      <td>N.L.</td>\n",
       "      <td>NaN</td>\n",
       "      <td>NaN</td>\n",
       "    </tr>\n",
       "  </tbody>\n",
       "</table>\n",
       "</div>"
      ],
      "text/plain": [
       "  user_location country_long country_short locality_long locality_short  \\\n",
       "0        México       Mexico            MX           NaN            NaN   \n",
       "1        Mexico       Mexico            MX           NaN            NaN   \n",
       "2        mexico       Mexico            MX           NaN            NaN   \n",
       "3   Mexico City       Mexico            MX   Mexico City    México D.F.   \n",
       "4     Monterrey       Mexico            MX     Monterrey      Monterrey   \n",
       "\n",
       "  administrative_area_level_1_long administrative_area_level_1_short  \\\n",
       "0                              NaN                               NaN   \n",
       "1                              NaN                               NaN   \n",
       "2                              NaN                               NaN   \n",
       "3                      Mexico City                              CDMX   \n",
       "4                       Nuevo Leon                              N.L.   \n",
       "\n",
       "  administrative_area_level_2_long administrative_area_level_2_short  \n",
       "0                              NaN                               NaN  \n",
       "1                              NaN                               NaN  \n",
       "2                              NaN                               NaN  \n",
       "3                              NaN                               NaN  \n",
       "4                              NaN                               NaN  "
      ]
     },
     "execution_count": 9,
     "metadata": {},
     "output_type": "execute_result"
    }
   ],
   "source": [
    "locations.head()"
   ]
  },
  {
   "cell_type": "markdown",
   "metadata": {},
   "source": [
    "# Labor Market Statistics"
   ]
  },
  {
   "cell_type": "code",
   "execution_count": 10,
   "metadata": {},
   "outputs": [],
   "source": [
    "surveys=pd.read_csv(os.path.join(path_to_official_data,'surveys',country_code+'.csv'))"
   ]
  },
  {
   "cell_type": "code",
   "execution_count": 11,
   "metadata": {
    "scrolled": true
   },
   "outputs": [
    {
     "data": {
      "text/html": [
       "<div>\n",
       "<style scoped>\n",
       "    .dataframe tbody tr th:only-of-type {\n",
       "        vertical-align: middle;\n",
       "    }\n",
       "\n",
       "    .dataframe tbody tr th {\n",
       "        vertical-align: top;\n",
       "    }\n",
       "\n",
       "    .dataframe thead th {\n",
       "        text-align: right;\n",
       "    }\n",
       "</style>\n",
       "<table border=\"1\" class=\"dataframe\">\n",
       "  <thead>\n",
       "    <tr style=\"text-align: right;\">\n",
       "      <th></th>\n",
       "      <th>Quarter</th>\n",
       "      <th>year</th>\n",
       "      <th>quarter</th>\n",
       "      <th>month</th>\n",
       "      <th>administrative_area_level_1</th>\n",
       "      <th>urban_or_rural</th>\n",
       "      <th>unemployed</th>\n",
       "      <th>employed</th>\n",
       "    </tr>\n",
       "  </thead>\n",
       "  <tbody>\n",
       "    <tr>\n",
       "      <th>0</th>\n",
       "      <td>Q01</td>\n",
       "      <td>2012</td>\n",
       "      <td>Q01</td>\n",
       "      <td>1</td>\n",
       "      <td>1</td>\n",
       "      <td>Rural</td>\n",
       "      <td>3.794349</td>\n",
       "      <td>40.524166</td>\n",
       "    </tr>\n",
       "    <tr>\n",
       "      <th>1</th>\n",
       "      <td>Q01</td>\n",
       "      <td>2012</td>\n",
       "      <td>Q01</td>\n",
       "      <td>1</td>\n",
       "      <td>2</td>\n",
       "      <td>Rural</td>\n",
       "      <td>2.059209</td>\n",
       "      <td>55.924904</td>\n",
       "    </tr>\n",
       "    <tr>\n",
       "      <th>2</th>\n",
       "      <td>Q01</td>\n",
       "      <td>2012</td>\n",
       "      <td>Q01</td>\n",
       "      <td>1</td>\n",
       "      <td>3</td>\n",
       "      <td>Rural</td>\n",
       "      <td>1.370526</td>\n",
       "      <td>60.324627</td>\n",
       "    </tr>\n",
       "    <tr>\n",
       "      <th>3</th>\n",
       "      <td>Q01</td>\n",
       "      <td>2012</td>\n",
       "      <td>Q01</td>\n",
       "      <td>1</td>\n",
       "      <td>4</td>\n",
       "      <td>Rural</td>\n",
       "      <td>0.412363</td>\n",
       "      <td>55.902931</td>\n",
       "    </tr>\n",
       "    <tr>\n",
       "      <th>4</th>\n",
       "      <td>Q01</td>\n",
       "      <td>2012</td>\n",
       "      <td>Q01</td>\n",
       "      <td>1</td>\n",
       "      <td>5</td>\n",
       "      <td>Rural</td>\n",
       "      <td>4.351390</td>\n",
       "      <td>52.462563</td>\n",
       "    </tr>\n",
       "  </tbody>\n",
       "</table>\n",
       "</div>"
      ],
      "text/plain": [
       "  Quarter  year quarter  month  administrative_area_level_1 urban_or_rural  \\\n",
       "0     Q01  2012     Q01      1                            1          Rural   \n",
       "1     Q01  2012     Q01      1                            2          Rural   \n",
       "2     Q01  2012     Q01      1                            3          Rural   \n",
       "3     Q01  2012     Q01      1                            4          Rural   \n",
       "4     Q01  2012     Q01      1                            5          Rural   \n",
       "\n",
       "   unemployed   employed  \n",
       "0    3.794349  40.524166  \n",
       "1    2.059209  55.924904  \n",
       "2    1.370526  60.324627  \n",
       "3    0.412363  55.902931  \n",
       "4    4.351390  52.462563  "
      ]
     },
     "execution_count": 11,
     "metadata": {},
     "output_type": "execute_result"
    }
   ],
   "source": [
    "surveys.head()"
   ]
  },
  {
   "cell_type": "code",
   "execution_count": 12,
   "metadata": {},
   "outputs": [],
   "source": [
    "aggregates=pd.read_csv(os.path.join(path_to_official_data,'aggregates','monthly.csv'))\n",
    "aggregates=aggregates[['date',country_code]].copy()\n",
    "aggregates['year']=aggregates['date'].map(lambda x:pd.to_datetime(x).year)\n",
    "aggregates['month']=aggregates['date'].map(lambda x:pd.to_datetime(x).month)\n",
    "aggregates.rename(columns={country_code:'unemployment'},inplace=True)\n",
    "aggregates.drop('date',1,inplace=True)"
   ]
  },
  {
   "cell_type": "code",
   "execution_count": 13,
   "metadata": {},
   "outputs": [
    {
     "data": {
      "text/html": [
       "<div>\n",
       "<style scoped>\n",
       "    .dataframe tbody tr th:only-of-type {\n",
       "        vertical-align: middle;\n",
       "    }\n",
       "\n",
       "    .dataframe tbody tr th {\n",
       "        vertical-align: top;\n",
       "    }\n",
       "\n",
       "    .dataframe thead th {\n",
       "        text-align: right;\n",
       "    }\n",
       "</style>\n",
       "<table border=\"1\" class=\"dataframe\">\n",
       "  <thead>\n",
       "    <tr style=\"text-align: right;\">\n",
       "      <th></th>\n",
       "      <th>unemployment</th>\n",
       "      <th>year</th>\n",
       "      <th>month</th>\n",
       "    </tr>\n",
       "  </thead>\n",
       "  <tbody>\n",
       "    <tr>\n",
       "      <th>0</th>\n",
       "      <td>5.76</td>\n",
       "      <td>2010</td>\n",
       "      <td>1</td>\n",
       "    </tr>\n",
       "    <tr>\n",
       "      <th>1</th>\n",
       "      <td>5.28</td>\n",
       "      <td>2010</td>\n",
       "      <td>2</td>\n",
       "    </tr>\n",
       "    <tr>\n",
       "      <th>2</th>\n",
       "      <td>4.74</td>\n",
       "      <td>2010</td>\n",
       "      <td>3</td>\n",
       "    </tr>\n",
       "    <tr>\n",
       "      <th>3</th>\n",
       "      <td>5.35</td>\n",
       "      <td>2010</td>\n",
       "      <td>4</td>\n",
       "    </tr>\n",
       "    <tr>\n",
       "      <th>4</th>\n",
       "      <td>5.00</td>\n",
       "      <td>2010</td>\n",
       "      <td>5</td>\n",
       "    </tr>\n",
       "  </tbody>\n",
       "</table>\n",
       "</div>"
      ],
      "text/plain": [
       "   unemployment  year  month\n",
       "0          5.76  2010      1\n",
       "1          5.28  2010      2\n",
       "2          4.74  2010      3\n",
       "3          5.35  2010      4\n",
       "4          5.00  2010      5"
      ]
     },
     "execution_count": 13,
     "metadata": {},
     "output_type": "execute_result"
    }
   ],
   "source": [
    "aggregates.head()"
   ]
  },
  {
   "cell_type": "markdown",
   "metadata": {},
   "source": [
    "# Country-level Time Series"
   ]
  },
  {
   "cell_type": "code",
   "execution_count": 14,
   "metadata": {},
   "outputs": [],
   "source": [
    "df=pd.merge(mentions,locations[['user_location']]).drop('user_location',1)\n",
    "df=df.groupby(['year','month'],as_index=False).sum()\n",
    "df.year=df.year.astype(int)\n",
    "df.month=df.month.astype(int)\n",
    "df.sort_values(by=['year','month'],inplace=True)\n",
    "df=pd.merge(aggregates,df)\n",
    "df['date']=df[['year','month']].apply(lambda x:'-'.join([str(y) for y in x]),1)\n",
    "df=pd.concat([df.filter(regex='n_').drop('n_users',1).divide(\n",
    "df.n_users,axis=0).rename(columns=lambda x:x.replace('n_','pct_'))*100,\n",
    "df.drop(df.drop('n_users',1).filter(regex='n_').columns,1).drop(['year','month'],1)],1)"
   ]
  },
  {
   "cell_type": "code",
   "execution_count": 15,
   "metadata": {},
   "outputs": [
    {
     "data": {
      "image/png": "[encoded data removed]",
      "text/plain": [
       "<Figure size 720x360 with 1 Axes>"
      ]
     },
     "metadata": {
      "needs_background": "light"
     },
     "output_type": "display_data"
    }
   ],
   "source": [
    "fig,ax=plt.subplots(figsize=(10,5))\n",
    "df.plot(ax=ax,y='n_users',x='date',style='-',markersize=2)\n",
    "ax.set_xlabel('')\n",
    "ax.tick_params(which='both',direction='in',pad=3)\n",
    "ax.set_xticklabels(ax.get_xticklabels(),rotation=45,ha='right')\n",
    "ax.set_title(country_code,fontweight='bold')\n",
    "ax.locator_params(axis='y',nbins=5)\n",
    "ax.set_ylim([0,df.n_users.max()*1.05])\n",
    "fig.autofmt_xdate()"
   ]
  },
  {
   "cell_type": "code",
   "execution_count": 23,
   "metadata": {},
   "outputs": [
    {
     "data": {
      "image/png": "[encoded data removed]",
      "text/plain": [
       "<Figure size 720x360 with 2 Axes>"
      ]
     },
     "metadata": {
      "needs_background": "light"
     },
     "output_type": "display_data"
    }
   ],
   "source": [
    "fig,ax=plt.subplots(figsize=(10,5))\n",
    "df.iloc[25:90].plot(ax=ax,y='unemployment',x='date',label='% Unemployed (Official)')\n",
    "df.iloc[25:90].plot(ax=ax,y='pct_search',secondary_y=True,x='date',label='% Unemployed (Twitter)')\n",
    "ax.set_xlabel('')\n",
    "ax.tick_params(which='both',direction='in',pad=3)\n",
    "ax.set_xticklabels(ax.get_xticklabels(),rotation=45,ha='right')\n",
    "ax.set_title(country_code,fontweight='bold')\n",
    "ax.locator_params(axis='y',nbins=6)\n",
    "plt.savefig(os.path.join(path_to_data,'../'+country_code+'-agg.pdf'),bbox_inches='tight')"
   ]
  },
  {
   "cell_type": "markdown",
   "metadata": {},
   "source": [
    "# County-level Estimates"
   ]
  },
  {
   "cell_type": "code",
   "execution_count": 18,
   "metadata": {},
   "outputs": [],
   "source": [
    "# df=pd.merge(\n",
    "# mentions,\n",
    "# locations[\n",
    "# ['user_location','administrative_area_level_1_short','administrative_area_level_2_long']\n",
    "# ]).drop('user_location',1).rename(columns=lambda x:x.replace('_short','').replace('_long',''))\n",
    "\n",
    "# df=df.groupby(['year','month','administrative_area_level_1','administrative_area_level_2'],as_index=False).sum()\n",
    "\n",
    "# df.year=df.year.astype(int)\n",
    "# df.month=df.month.astype(int)\n",
    "\n",
    "# df=pd.merge(df,surveys.drop(['quarter','employed','urban_or_rural'],1),\n",
    "# on=['year','month','administrative_area_level_1','administrative_area_level_2'])\n",
    "\n",
    "# df.sort_values(by=['year','month'],inplace=True)"
   ]
  }
 ],
 "metadata": {
  "kernelspec": {
   "display_name": "Python 3",
   "language": "python",
   "name": "python3"
  },
  "language_info": {
   "codemirror_mode": {
    "name": "ipython",
    "version": 3
   },
   "file_extension": ".py",
   "mimetype": "text/x-python",
   "name": "python",
   "nbconvert_exporter": "python",
   "pygments_lexer": "ipython3",
   "version": "3.7.6"
  }
 },
 "nbformat": 4,
 "nbformat_minor": 2
}
