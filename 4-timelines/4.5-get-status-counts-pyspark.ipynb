{
 "cells": [
  {
   "cell_type": "code",
   "execution_count": null,
   "metadata": {},
   "outputs": [],
   "source": [
    "import os\n",
    "import sys\n",
    "import socket\n",
    "import re\n",
    "import numpy as np\n",
    "import string\n",
    "import warnings\n",
    "from timeit import default_timer as timer\n",
    "from datetime import datetime\n",
    "\n",
    "from pyspark.sql import SparkSession\n",
    "from pyspark.sql.functions import udf,desc,row_number,col,year,month,dayofmonth,dayofweek,to_timestamp,size,isnan,when,count,col,count,lit,sum\n",
    "import pyspark.sql.functions as F\n",
    "from pyspark.sql.types import MapType, StringType, IntegerType, StructType, StructField, FloatType, ArrayType\n",
    "from py4j.java_gateway import java_import\n",
    "from functools import reduce\n",
    "from pyspark.sql import DataFrame"
   ]
  },
  {
   "cell_type": "markdown",
   "metadata": {},
   "source": [
    "# Config"
   ]
  },
  {
   "cell_type": "code",
   "execution_count": null,
   "metadata": {},
   "outputs": [],
   "source": [
    "country_code = \"US\"\n",
    "print('Country:', country_code)"
   ]
  },
  {
   "cell_type": "code",
   "execution_count": null,
   "metadata": {},
   "outputs": [],
   "source": [
    "try:\n",
    "    spark\n",
    "except NameError:\n",
    "    if 'samuel' in socket.gethostname().lower():\n",
    "        print('Create Local SparkSession')\n",
    "        spark=SparkSession.builder.config(\"spark.driver.host\", \"localhost\").appName(\"extract-timelines\").getOrCreate()\n",
    "    else:\n",
    "        print('Create Cluster SparkSession')\n",
    "        spark=SparkSession.builder.appName(\"extract-timelines\").getOrCreate()\n",
    "        \n",
    "# IgnoreCorruptFiles\n",
    "spark.conf.set(\"spark.sql.files.ignoreCorruptFiles\", \"true\")\n",
    "    \n",
    "print('Hostname:', socket.gethostname())\n",
    "if  'samuel' in socket.gethostname().lower():\n",
    "    path_to_data='../../data'\n",
    "else:\n",
    "    path_to_data='/user/spf248/twitter/data'"
   ]
  },
  {
   "cell_type": "code",
   "execution_count": null,
   "metadata": {},
   "outputs": [],
   "source": [
    "print('IMPORT USERS PROFILE')\n",
    "users_profile=spark.read.json(os.path.join(path_to_data,'users','users-profile'))\n",
    "users_profile=users_profile.select('id_str','statuses_count')\n",
    "users_profile=users_profile.toDF(*['user_id','statuses_count'])\n",
    "users_profile.cache()"
   ]
  },
  {
   "cell_type": "code",
   "execution_count": null,
   "metadata": {},
   "outputs": [],
   "source": [
    "print('IMPORT TIMELINES')\n",
    "timelines=spark.read.parquet(os.path.join(path_to_data,'timelines','chunks',country_code,'*/*.parquet'))\n",
    "timelines=timelines.repartition(1000)\n",
    "timelines=timelines.drop_duplicates(subset=['tweet_id'])\n",
    "\n",
    "print('COUNT TWEETS PER USER')\n",
    "counts_timelines=timelines.groupby(\"user_id\").agg({'tweet_id':'count'})\n",
    "counts_timelines=counts_timelines.toDF(*['user_id','timeline_count'])\n",
    "counts_timelines.cache()\n",
    "print('# TIMELINE COUNTS:', counts_timelines.count())"
   ]
  },
  {
   "cell_type": "code",
   "execution_count": null,
   "metadata": {},
   "outputs": [],
   "source": [
    "print('IMPORT TWEETS')\n",
    "tweets=spark.read.parquet(os.path.join(path_to_data,'tweets/tweets-with-identified-location',country_code))\n",
    "tweets=tweets.repartition(1000)\n",
    "\n",
    "print('MERGE DECAHOSE TWEETS AND TIMELINES')\n",
    "tweets=tweets.join(counts_timelines.select('user_id'),on='user_id')\n",
    "combined=timelines.unionByName(tweets).drop_duplicates(subset=['tweet_id'])\n",
    "\n",
    "print('COUNT TWEETS PER USER')\n",
    "counts_combined=combined.groupby(\"user_id\").agg({'tweet_id':'count'})\n",
    "counts_combined=counts_combined.toDF(*['user_id','combined_count'])\n",
    "counts_combined.cache()\n",
    "print('# COMBINED COUNTS:', counts_combined.count())"
   ]
  },
  {
   "cell_type": "code",
   "execution_count": null,
   "metadata": {},
   "outputs": [],
   "source": [
    "print('SAVE')\n",
    "start = timer()\n",
    "\n",
    "df=users_profile.join(counts_timelines,on='user_id').join(counts_combined,on='user_id')\n",
    "df.write.mode(\"overwrite\").parquet(os.path.join(path_to_data,'timelines','counts',country_code))\n",
    "\n",
    "end = timer()\n",
    "print('DONE IN', round(end - start), 'SEC')"
   ]
  }
 ],
 "metadata": {
  "kernelspec": {
   "display_name": "Python 3",
   "language": "python",
   "name": "python3"
  },
  "language_info": {
   "codemirror_mode": {
    "name": "ipython",
    "version": 3
   },
   "file_extension": ".py",
   "mimetype": "text/x-python",
   "name": "python",
   "nbconvert_exporter": "python",
   "pygments_lexer": "ipython3",
   "version": "3.7.6"
  }
 },
 "nbformat": 4,
 "nbformat_minor": 2
}
